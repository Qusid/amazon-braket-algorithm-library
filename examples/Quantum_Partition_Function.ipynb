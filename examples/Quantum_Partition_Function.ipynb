{
 "cells": [
  {
   "cell_type": "markdown",
   "id": "e0c3a250-e049-43fa-8721-3d819dfa50ac",
   "metadata": {},
   "source": [
    "# Quantum Partition Function\n",
    "\n",
    "The partition function is of particular interest for calculating probabilities from graphical models such Markov random fields [1]. It \n",
    "becomes intractable even for small networks [2]. In this example, the graphical model form known as the Potts model is considered. The\n",
    " efficient quantum algorithm is implemented for the partition function [3]. The full partition function algorithm consists of the \n",
    " following four steps:\n",
    " \n",
    " * step 1: Classical Preprocessing\n",
    " * step 2: Irreducible Cyclic Cocycle Code Check\n",
    " * step 3: State Preparation and Quantum Fourier Transform\n",
    " * step 4: Classical Post-Processing"
   ]
  },
  {
   "cell_type": "markdown",
   "id": "549cddea-bbd0-4920-806b-9cb35c65ef83",
   "metadata": {},
   "source": [
    "# References\n",
    "\n",
    "[1] Koller, Daphne, and Nir Friedman. Probabilistic graphical models: principles and techniques. MIT press, 2009.\n",
    "\n",
    "[2] Adedoyin, Adetokunbo, et al. \"Quantum algorithm implementations for beginners.\" arXiv preprint arXiv:1804.03719 (2018).\n",
    "\n",
    "[3] Geraci, Joseph, and Daniel A. Lidar. \"On the exact evaluation of certain instances of the Potts partition function by quantum computers.\" Communications in mathematical physics 279.3 (2008): 735-768."
   ]
  },
  {
   "cell_type": "code",
   "execution_count": 25,
   "id": "f6cb59c2-1e63-451c-8152-ff2465496571",
   "metadata": {},
   "outputs": [
    {
     "name": "stdout",
     "output_type": "stream",
     "text": [
      "The autoreload extension is already loaded. To reload it, use:\n",
      "  %reload_ext autoreload\n"
     ]
    }
   ],
   "source": [
    "import matplotlib.pyplot as plt\n",
    "\n",
    "from braket.circuits import Circuit, circuit\n",
    "from braket.devices import LocalSimulator\n",
    "from braket.aws import AwsDevice\n",
    "from braket.experimental.algorithms.quantum_partition_function.quantum_partition_function import (\n",
    "    quantum_partition_function,\n",
    "    run_quantum_partition_function,\n",
    "    get_quantum_partition_function_results,\n",
    ")\n",
    "\n",
    "import networkx as nx\n",
    "\n",
    "# magic word for producing visualizations in notebook\n",
    "%matplotlib inline\n",
    "%load_ext autoreload\n",
    "%autoreload 2"
   ]
  },
  {
   "cell_type": "code",
   "execution_count": 14,
   "id": "152fe7e0-c53c-4e54-9a78-cdfac16288f3",
   "metadata": {},
   "outputs": [],
   "source": [
    "potts_model = {}"
   ]
  },
  {
   "cell_type": "markdown",
   "id": "ab18d583-cc04-4c1d-853f-916756dabb66",
   "metadata": {},
   "source": [
    "# Step 1: Classical Preprocessing"
   ]
  },
  {
   "cell_type": "code",
   "execution_count": 15,
   "id": "f6f0685a-7e7a-4267-b1f3-3bf008628819",
   "metadata": {},
   "outputs": [
    {
     "data": {
      "image/png": "[encoded data removed]",
      "text/plain": [
       "<Figure size 640x480 with 1 Axes>"
      ]
     },
     "metadata": {},
     "output_type": "display_data"
    }
   ],
   "source": [
    "G = nx.Graph()\n",
    "\n",
    "G.add_edge(\"a\", \"b\", weight=1.0)\n",
    "G.add_edge(\"a\", \"c\", weight=1.0)\n",
    "G.add_edge(\"b\", \"c\", weight=1.0)\n",
    "\n",
    "edgelist = [(u, v) for (u, v, d) in G.edges(data=True) if d[\"weight\"] > 0]\n",
    "\n",
    "pos = nx.spring_layout(G, seed=7)  # positions for all nodes - seed for reproducibility\n",
    "\n",
    "# nodes\n",
    "nx.draw_networkx_nodes(G, pos, node_size=700)\n",
    "\n",
    "# edges\n",
    "nx.draw_networkx_edges(G, pos, edgelist=edgelist, width=6)\n",
    "\n",
    "# node labels\n",
    "nx.draw_networkx_labels(G, pos, font_size=20, font_family=\"sans-serif\")\n",
    "# edge weight labels\n",
    "edge_labels = nx.get_edge_attributes(G, \"weight\")\n",
    "nx.draw_networkx_edge_labels(G, pos, edge_labels)\n",
    "\n",
    "ax = plt.gca()\n",
    "ax.margins(0.08)\n",
    "plt.axis(\"off\")\n",
    "plt.tight_layout()\n",
    "plt.show()"
   ]
  },
  {
   "cell_type": "code",
   "execution_count": 16,
   "id": "053ed3df-f656-48e7-9f2e-bf4a424686c4",
   "metadata": {},
   "outputs": [],
   "source": [
    "step = 'pre'\n",
    "potts_model['graph-model'] = G\n",
    "potts_model['q-state'] = 2"
   ]
  },
  {
   "cell_type": "code",
   "execution_count": 17,
   "id": "e510993c-c92c-4d43-8a41-f13c481000dd",
   "metadata": {},
   "outputs": [
    {
     "name": "stdout",
     "output_type": "stream",
     "text": [
      "Classical Preprocessing to [n,k] Code\n"
     ]
    }
   ],
   "source": [
    "step1_result = run_quantum_partition_function(potts_model, step)\n",
    "potts_model.update(step1_result)"
   ]
  },
  {
   "cell_type": "markdown",
   "id": "7dfce381-9209-4bd8-8e38-0fc5d78c90d9",
   "metadata": {},
   "source": [
    "# Step 2: Irreducible Cyclic Cocycle Code (ICCC) Check"
   ]
  },
  {
   "cell_type": "code",
   "execution_count": 18,
   "id": "88b2e3f9-8b44-4754-b636-46c510877dba",
   "metadata": {},
   "outputs": [],
   "source": [
    "step = 'iccc-check'"
   ]
  },
  {
   "cell_type": "code",
   "execution_count": 19,
   "id": "e969b3bd-9255-419c-83b6-032658243b3d",
   "metadata": {},
   "outputs": [
    {
     "name": "stdout",
     "output_type": "stream",
     "text": [
      "Irreducible Cyclic Cocycle Code Check\n",
      "The cycle matroid matrix of Graph Gamma is 2 x 3\n",
      "the ICCC is [1,-1], which passes ICCC check!\n"
     ]
    }
   ],
   "source": [
    "step2_result = run_quantum_partition_function(potts_model, step)\n",
    "potts_model.update(step2_result)"
   ]
  },
  {
   "cell_type": "markdown",
   "id": "b874a6ff-838a-4dc5-9688-641455015d2c",
   "metadata": {},
   "source": [
    "# Step 3: State Preparation and Quantum Fourier Transform"
   ]
  },
  {
   "cell_type": "code",
   "execution_count": 28,
   "id": "eea83950-106a-4ce9-9257-766c8175b622",
   "metadata": {},
   "outputs": [
    {
     "name": "stdout",
     "output_type": "stream",
     "text": [
      "qft circuit for checking gamma values\n",
      "State Preparation and Quantum Fourier Transform Circuit:\n",
      "T  : |0|    1    |2|     3     |4| 5  |\n",
      "                                       \n",
      "q0 : -H-Rz(-3.14)-H-PHASE(1.57)---SWAP-\n",
      "                    |             |    \n",
      "q1 : -H-Rz(3.14)----C-----------H-SWAP-\n",
      "\n",
      "T  : |0|    1    |2|     3     |4| 5  |\n"
     ]
    }
   ],
   "source": [
    "num_qubits = 2\n",
    "qubits=range(num_qubits)\n",
    "q0 = qubits[0]\n",
    "q1 = qubits[1]\n",
    "pi = 3.14\n",
    "\n",
    "# Prepare state for quantum fourier circuit\n",
    "quantum_partition_function_qft = Circuit().h(range(2)).rz(q0,-pi).rz(q1,pi)\n",
    "qft_circ = quantum_partition_function('qft', qubits)\n",
    "quantum_partition_function_qft.add(qft_circ)\n",
    "\n",
    "print(\"State Preparation and Quantum Fourier Transform Circuit:\")\n",
    "print(quantum_partition_function_qft)"
   ]
  },
  {
   "cell_type": "code",
   "execution_count": 32,
   "id": "722a6125-30b0-4245-b87d-8d7e653fd58b",
   "metadata": {},
   "outputs": [],
   "source": [
    "potts_model['qft-func'] = {}\n",
    "potts_model['qft-func']['circuit'] = quantum_partition_function_qft\n",
    "potts_model['qft-func']['param'] = {}\n",
    "potts_model['qft-func']['param']['shots'] = 1000\n",
    "\n",
    "step = 'qft'"
   ]
  },
  {
   "cell_type": "markdown",
   "id": "0f284f5b-9b00-46bc-8de5-e5c69c3b7c0e",
   "metadata": {},
   "source": [
    "## Run on a local simulator"
   ]
  },
  {
   "cell_type": "code",
   "execution_count": 33,
   "id": "abb0ec64-bb9b-427e-b80d-78fef89c6ff9",
   "metadata": {},
   "outputs": [
    {
     "name": "stdout",
     "output_type": "stream",
     "text": [
      "Quantum Partition Function Running\n",
      "State Preparation and Quantum Fourier Transform\n",
      "Quantum Partition Function Run Complete\n",
      "Status of task: COMPLETED\n",
      "Counter({'11': 523, '01': 477})\n"
     ]
    },
    {
     "data": {
      "image/png": "[encoded data removed]",
      "text/plain": [
       "<Figure size 640x480 with 1 Axes>"
      ]
     },
     "metadata": {},
     "output_type": "display_data"
    }
   ],
   "source": [
    "potts_model['qft-func']['param']['device'] = LocalSimulator()\n",
    "\n",
    "print(\"Quantum Partition Function Running\")\n",
    "step3_result = run_quantum_partition_function(potts_model, step)\n",
    "potts_model.update(step3_result)\n",
    "\n",
    "print(\"Quantum Partition Function Run Complete\")\n",
    "get_quantum_partition_function_results(potts_model)"
   ]
  },
  {
   "cell_type": "markdown",
   "id": "807bc56b-9ade-4fcd-a3ab-4e10e06d6ddf",
   "metadata": {},
   "source": [
    "## Run on a QPU"
   ]
  },
  {
   "cell_type": "code",
   "execution_count": null,
   "id": "b07e74f4-f522-4e71-800f-c5d58056237f",
   "metadata": {},
   "outputs": [],
   "source": [
    "# Use Braket SDK Cost Tracking to estimate the cost to run this example\n",
    "from braket.tracking import Tracker\n",
    "\n",
    "t = Tracker().start()"
   ]
  },
  {
   "cell_type": "code",
   "execution_count": null,
   "id": "819df8c5-81a6-407a-81a4-66651e309fb1",
   "metadata": {},
   "outputs": [],
   "source": [
    "# UNCOMMENT the follow code block to run on the QPU\n",
    "\"\"\"\n",
    "qpu = AwsDevice(\"arn:aws:braket:::device/qpu/ionq/ionQdevice\")\n",
    "\n",
    "potts_model['qft-func']['param']['device'] = qpu\n",
    "\n",
    "print(\"Quantum Partition Function Running\")\n",
    "step3_result = run_quantum_partition_function(potts_model, step)\n",
    "potts_model.update(step3_result)\n",
    "\n",
    "print(\"Quantum Partition Function Run Complete\")\n",
    "get_quantum_partition_function_results(potts_model)\n",
    "\n",
    "\"\"\"\""
   ]
  },
  {
   "cell_type": "code",
   "execution_count": null,
   "id": "1e03a173-efeb-4702-8372-0ac4345d0880",
   "metadata": {},
   "outputs": [],
   "source": [
    "print(\"Task Summary\")\n",
    "print(t.quantum_tasks_statistics())\n",
    "print(\n",
    "    \"Note: Charges shown are estimates based on your Amazon Braket simulator and quantum processing unit (QPU) task usage. Estimated charges shown may differ from your actual charges. Estimated charges do not factor in any discounts or credits, and you may experience additional charges based on your use of other services such as Amazon Elastic Compute Cloud (Amazon EC2).\"\n",
    ")\n",
    "print(\n",
    "    f\"Estimated cost to run this example: {t.qpu_tasks_cost() + t.simulator_tasks_cost():.2f} USD\"\n",
    ")"
   ]
  },
  {
   "cell_type": "markdown",
   "id": "0a97ee3f-6a26-4b03-b1ca-2abf298a83b5",
   "metadata": {},
   "source": [
    "# Step4: Classical Post-Processing"
   ]
  },
  {
   "cell_type": "markdown",
   "id": "dbd78e02-a7b3-47c1-9d7d-b186650b1df9",
   "metadata": {},
   "source": [
    "Threshold the low-probability values of gamma, ensuring no more than the maximum number of distinct values of gamma remain. These gammas are then plugged into the calculation of the weight spectrum and the partition function"
   ]
  }
 ],
 "metadata": {
  "kernelspec": {
   "display_name": "Python 3 (ipykernel)",
   "language": "python",
   "name": "python3"
  },
  "language_info": {
   "codemirror_mode": {
    "name": "ipython",
    "version": 3
   },
   "file_extension": ".py",
   "mimetype": "text/x-python",
   "name": "python",
   "nbconvert_exporter": "python",
   "pygments_lexer": "ipython3",
   "version": "3.9.13"
  }
 },
 "nbformat": 4,
 "nbformat_minor": 5
}
