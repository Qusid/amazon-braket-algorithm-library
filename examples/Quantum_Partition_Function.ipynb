{
 "cells": [
  {
   "cell_type": "markdown",
   "id": "e0c3a250-e049-43fa-8721-3d819dfa50ac",
   "metadata": {},
   "source": [
    "# Quantum Partition Function\n",
    "\n",
    "The partition function is of particular interest for calculating probabilities from graphical models such Markov random fields [1]. It \n",
    "becomes intractable even for small networks [2]. In this example, the graphical model form known as the Potts model is considered. The\n",
    " efficient quantum algorithm is implemented for the partition function [3]. The full partition function algorithm consists of the \n",
    " following four steps:\n",
    " \n",
    " * step 1: Classical Preprocessing\n",
    " * step 2: Irreducible Cyclic Cocycle Code Check\n",
    " * step 3: State Preparation and Quantum Fourier Transform\n",
    " * step 4: Classical Post-Processing"
   ]
  },
  {
   "cell_type": "markdown",
   "id": "549cddea-bbd0-4920-806b-9cb35c65ef83",
   "metadata": {},
   "source": [
    "# References\n",
    "\n",
    "[1] Koller, Daphne, and Nir Friedman. Probabilistic graphical models: principles and techniques. MIT press, 2009.\n",
    "\n",
    "[2] Adedoyin, Adetokunbo, et al. \"Quantum algorithm implementations for beginners.\" arXiv preprint arXiv:1804.03719 (2018).\n",
    "\n",
    "[3] Geraci, Joseph, and Daniel A. Lidar. \"On the exact evaluation of certain instances of the Potts partition function by quantum computers.\" Communications in mathematical physics 279.3 (2008): 735-768."
   ]
  },
  {
   "cell_type": "code",
   "execution_count": 1,
   "id": "f6cb59c2-1e63-451c-8152-ff2465496571",
   "metadata": {},
   "outputs": [
    {
     "ename": "ModuleNotFoundError",
     "evalue": "No module named 'braket.experimental'",
     "output_type": "error",
     "traceback": [
      "\u001b[0;31m---------------------------------------------------------------------------\u001b[0m",
      "\u001b[0;31mModuleNotFoundError\u001b[0m                       Traceback (most recent call last)",
      "Cell \u001b[0;32mIn [1], line 6\u001b[0m\n\u001b[1;32m      4\u001b[0m \u001b[38;5;28;01mfrom\u001b[39;00m \u001b[38;5;21;01mbraket\u001b[39;00m\u001b[38;5;21;01m.\u001b[39;00m\u001b[38;5;21;01mdevices\u001b[39;00m \u001b[38;5;28;01mimport\u001b[39;00m LocalSimulator\n\u001b[1;32m      5\u001b[0m \u001b[38;5;28;01mfrom\u001b[39;00m \u001b[38;5;21;01mbraket\u001b[39;00m\u001b[38;5;21;01m.\u001b[39;00m\u001b[38;5;21;01maws\u001b[39;00m \u001b[38;5;28;01mimport\u001b[39;00m AwsDevice\n\u001b[0;32m----> 6\u001b[0m \u001b[38;5;28;01mfrom\u001b[39;00m \u001b[38;5;21;01mbraket\u001b[39;00m\u001b[38;5;21;01m.\u001b[39;00m\u001b[38;5;21;01mexperimental\u001b[39;00m\u001b[38;5;21;01m.\u001b[39;00m\u001b[38;5;21;01malgorithms\u001b[39;00m\u001b[38;5;21;01m.\u001b[39;00m\u001b[38;5;21;01mquantum_partition_function\u001b[39;00m\u001b[38;5;21;01m.\u001b[39;00m\u001b[38;5;21;01mquantum_partition_function\u001b[39;00m \u001b[38;5;28;01mimport\u001b[39;00m (\n\u001b[1;32m      7\u001b[0m     run_quantum_partition_function,\n\u001b[1;32m      8\u001b[0m     get_quantum_partition_function_results,\n\u001b[1;32m      9\u001b[0m )\n\u001b[1;32m     12\u001b[0m \u001b[38;5;66;03m# magic word for producing visualizations in notebook\u001b[39;00m\n\u001b[1;32m     13\u001b[0m get_ipython()\u001b[38;5;241m.\u001b[39mrun_line_magic(\u001b[38;5;124m'\u001b[39m\u001b[38;5;124mmatplotlib\u001b[39m\u001b[38;5;124m'\u001b[39m, \u001b[38;5;124m'\u001b[39m\u001b[38;5;124minline\u001b[39m\u001b[38;5;124m'\u001b[39m)\n",
      "\u001b[0;31mModuleNotFoundError\u001b[0m: No module named 'braket.experimental'"
     ]
    }
   ],
   "source": [
    "import matplotlib.pyplot as plt\n",
    "\n",
    "from braket.circuits import Circuit, circuit\n",
    "from braket.devices import LocalSimulator\n",
    "from braket.aws import AwsDevice\n",
    "from braket.experimental.algorithms.quantum_partition_function.quantum_partition_function import (\n",
    "    run_quantum_partition_function,\n",
    "    get_quantum_partition_function_results,\n",
    ")\n",
    "\n",
    "# magic word for producing visualizations in notebook\n",
    "%matplotlib inline\n",
    "%load_ext autoreload\n",
    "%autoreload 2"
   ]
  },
  {
   "cell_type": "code",
   "execution_count": 2,
   "id": "2f8d09c3-3ac4-4117-9035-23a48e63293e",
   "metadata": {},
   "outputs": [],
   "source": [
    "precision_qubits = [0, 1]\n",
    "query_qubits = [2]"
   ]
  },
  {
   "cell_type": "code",
   "execution_count": 3,
   "id": "b9d9742c-ef04-4408-aed3-96de27ab3a4a",
   "metadata": {},
   "outputs": [
    {
     "name": "stdout",
     "output_type": "stream",
     "text": [
      "1\n",
      "0\n"
     ]
    }
   ],
   "source": [
    "for ii, qubit in enumerate(reversed(precision_qubits)):\n",
    "    print(qubit)"
   ]
  },
  {
   "cell_type": "code",
   "execution_count": 1,
   "id": "8c14c1b6-f415-4481-80d1-1a4cdd4742cb",
   "metadata": {},
   "outputs": [],
   "source": [
    "# Use Braket SDK Cost Tracking to estimate the cost to run this example\n",
    "from braket.tracking import Tracker\n",
    "t = Tracker().start()"
   ]
  },
  {
   "cell_type": "code",
   "execution_count": 7,
   "id": "22f863a3-0fc8-4f5a-82ac-51fa1ac27fcb",
   "metadata": {},
   "outputs": [],
   "source": [
    "# general imports\n",
    "import asyncio\n",
    "import numpy as np\n",
    "import matplotlib.pyplot as plt\n",
    "# magic word for producing visualizations in notebook\n",
    "%matplotlib inline\n",
    "import string\n",
    "from datetime import datetime\n",
    "import logging\n",
    "\n",
    "# AWS imports: Import Braket SDK modules\n",
    "from braket.circuits import Circuit, Gate, Instruction, circuit, Observable\n",
    "from braket.aws import AwsDevice, AwsQuantumTask\n",
    "from braket.devices import LocalSimulator\n",
    "\n",
    "import networkx as nx\n",
    "import math"
   ]
  },
  {
   "cell_type": "markdown",
   "id": "ab18d583-cc04-4c1d-853f-916756dabb66",
   "metadata": {},
   "source": [
    "# Step 1: Classical Preprocessing"
   ]
  },
  {
   "cell_type": "code",
   "execution_count": 31,
   "id": "f0ac4d35-d342-45ee-bf29-d0c4805236e2",
   "metadata": {},
   "outputs": [
    {
     "data": {
      "text/plain": [
       "{'1': 1, '2': 2}"
      ]
     },
     "execution_count": 31,
     "metadata": {},
     "output_type": "execute_result"
    }
   ],
   "source": [
    "a = {}\n",
    "b = {}\n",
    "b['1']=1\n",
    "b['2']=2\n",
    "a.update(b)\n",
    "a"
   ]
  },
  {
   "cell_type": "code",
   "execution_count": 26,
   "id": "39dc33c1-03b7-4c66-813e-f17db5883594",
   "metadata": {},
   "outputs": [
    {
     "data": {
      "text/plain": [
       "3"
      ]
     },
     "execution_count": 26,
     "metadata": {},
     "output_type": "execute_result"
    }
   ],
   "source": [
    "len(G.edges)"
   ]
  },
  {
   "cell_type": "code",
   "execution_count": 30,
   "id": "6a60f300-7735-4f4c-8154-39f2e7edd7ce",
   "metadata": {},
   "outputs": [
    {
     "data": {
      "text/plain": [
       "1"
      ]
     },
     "execution_count": 30,
     "metadata": {},
     "output_type": "execute_result"
    }
   ],
   "source": [
    "S = [G.subgraph(c).copy() for c in nx.connected_components(G)]\n",
    "len(S)"
   ]
  },
  {
   "cell_type": "code",
   "execution_count": 22,
   "id": "f6f0685a-7e7a-4267-b1f3-3bf008628819",
   "metadata": {},
   "outputs": [
    {
     "data": {
      "image/png": "[encoded data removed]",
      "text/plain": [
       "<Figure size 640x480 with 1 Axes>"
      ]
     },
     "metadata": {},
     "output_type": "display_data"
    }
   ],
   "source": [
    "G = nx.Graph()\n",
    "\n",
    "G.add_edge(\"a\", \"b\", weight=1.0)\n",
    "G.add_edge(\"a\", \"c\", weight=1.0)\n",
    "G.add_edge(\"b\", \"c\", weight=1.0)\n",
    "\n",
    "edgelist = [(u, v) for (u, v, d) in G.edges(data=True) if d[\"weight\"] > 0]\n",
    "\n",
    "pos = nx.spring_layout(G, seed=7)  # positions for all nodes - seed for reproducibility\n",
    "\n",
    "# nodes\n",
    "nx.draw_networkx_nodes(G, pos, node_size=700)\n",
    "\n",
    "# edges\n",
    "nx.draw_networkx_edges(G, pos, edgelist=edgelist, width=6)\n",
    "\n",
    "# node labels\n",
    "nx.draw_networkx_labels(G, pos, font_size=20, font_family=\"sans-serif\")\n",
    "# edge weight labels\n",
    "edge_labels = nx.get_edge_attributes(G, \"weight\")\n",
    "nx.draw_networkx_edge_labels(G, pos, edge_labels)\n",
    "\n",
    "ax = plt.gca()\n",
    "ax.margins(0.08)\n",
    "plt.axis(\"off\")\n",
    "plt.tight_layout()\n",
    "plt.show()"
   ]
  },
  {
   "cell_type": "markdown",
   "id": "7dfce381-9209-4bd8-8e38-0fc5d78c90d9",
   "metadata": {},
   "source": [
    "# Step 2: Irreducible Cyclic Cocycle Code (ICCC) Check"
   ]
  },
  {
   "cell_type": "code",
   "execution_count": 14,
   "id": "88b2e3f9-8b44-4754-b636-46c510877dba",
   "metadata": {},
   "outputs": [],
   "source": [
    "# 3-vertex Ising model\n",
    "n = 3\n",
    "k = 2"
   ]
  },
  {
   "cell_type": "markdown",
   "id": "b874a6ff-838a-4dc5-9688-641455015d2c",
   "metadata": {},
   "source": [
    "# Step 3: State Preparation and Quantum Fourier Transform"
   ]
  },
  {
   "cell_type": "code",
   "execution_count": 10,
   "id": "0181ef4b-92fb-46e3-a3d5-2d38b6ff30bc",
   "metadata": {},
   "outputs": [
    {
     "name": "stdout",
     "output_type": "stream",
     "text": [
      "T  : |0|    1    |   2    |3|    4    |5|   6    |7|8|9|10|11|\n",
      "                                                              \n",
      "q0 : -H-Rz(-3.14)-H--------X-Rz(-0.79)-X-Rz(0.79)-X-H-X-H--X--\n",
      "                           |           |          |   |    |  \n",
      "q1 : -H-Rz(3.14)--Rz(0.79)-C-----------C-H--------C-H-C-H--C--\n",
      "\n",
      "T  : |0|    1    |   2    |3|    4    |5|   6    |7|8|9|10|11|\n"
     ]
    }
   ],
   "source": [
    "pi = 3.14\n",
    "q0 = 0\n",
    "q1 = 1\n",
    "my_circuit = Circuit().h(range(2)).rz(q0,-pi).rz(q1,pi).h(q0).rz(q1,pi/4).cnot(q1,q0).rz(q0,-pi/4).cnot(q1,q0).rz(q0,pi/4).h(q1).cnot(q1,q0).h(range(2)).cnot(q1,q0).h(range(2)).cnot(q1,q0)\n",
    "\n",
    "print(my_circuit)"
   ]
  },
  {
   "cell_type": "code",
   "execution_count": 4,
   "id": "f2c75a7d-3671-49ed-bb02-545fc222e379",
   "metadata": {},
   "outputs": [],
   "source": [
    "# qft subroutine without swaps\n",
    "def qft_no_swap(qubits):    \n",
    "    \"\"\"\n",
    "    Subroutine of the QFT excluding the final SWAP gates, applied to the qubits argument.\n",
    "    Returns the a circuit object.\n",
    "    \n",
    "    Args:\n",
    "        qubits (int): The list of qubits on which to apply the QFT\n",
    "    \"\"\"\n",
    "\n",
    "    # On a single qubit, the QFT is just a Hadamard.\n",
    "    if len(qubits) == 1:\n",
    "        return Circuit().h(qubits)\n",
    "    \n",
    "    # For more than one qubit, we define the QFT recursively (as shown on the right half of the image above):\n",
    "    else:\n",
    "        qftcirc = Circuit()\n",
    "        \n",
    "        # First add a Hadamard gate\n",
    "        qftcirc.h(qubits[0])\n",
    "        \n",
    "        # Then apply the controlled rotations, with weights (angles) defined by the distance to the control qubit.\n",
    "        for k, qubit in enumerate(qubits[1:]):\n",
    "            qftcirc.cphaseshift(qubit, qubits[0], 2*math.pi/(2**(k+2)))\n",
    "            \n",
    "        # Now apply the above gates recursively to the rest of the qubits\n",
    "        qftcirc.add(qft_no_swap(qubits[1:]))\n",
    "        \n",
    "    return qftcirc\n",
    "\n",
    "\n",
    "# To complete the full QFT, add swap gates to reverse the order of the qubits\n",
    "@circuit.subroutine(register=True)\n",
    "def qft_recursive(qubits):\n",
    "    \"\"\"\n",
    "    Construct a circuit object corresponding to the Quantum Fourier Transform (QFT)\n",
    "    algorithm, applied to the argument qubits.\n",
    "    \n",
    "    Args:\n",
    "        qubits (int): The list of qubits on which to apply the QFT\n",
    "    \"\"\"\n",
    "    qftcirc = Circuit()\n",
    "    \n",
    "    # First add the QFT subroutine above\n",
    "    qftcirc.add(qft_no_swap(qubits))\n",
    "    \n",
    "    # Then add SWAP gates to reverse the order of the qubits:\n",
    "    for i in range(math.floor(len(qubits)/2)):\n",
    "        qftcirc.swap(qubits[i], qubits[-i-1])\n",
    "    \n",
    "    return qftcirc"
   ]
  },
  {
   "cell_type": "code",
   "execution_count": 5,
   "id": "31b2d06c-1b4f-4f1b-9112-2f022d514fbd",
   "metadata": {},
   "outputs": [],
   "source": [
    "@circuit.subroutine(register=True)\n",
    "def qft(qubits):    \n",
    "    \"\"\"\n",
    "    Construct a circuit object corresponding to the Quantum Fourier Transform (QFT)\n",
    "    algorithm, applied to the argument qubits.  Does not use recursion to generate the QFT.\n",
    "    \n",
    "    Args:\n",
    "        qubits (int): The list of qubits on which to apply the QFT\n",
    "    \"\"\"\n",
    "    qftcirc = Circuit()\n",
    "    \n",
    "    # get number of qubits\n",
    "    num_qubits = len(qubits)\n",
    "    \n",
    "    for k in range(num_qubits):\n",
    "        # First add a Hadamard gate\n",
    "        qftcirc.h(qubits[k])\n",
    "    \n",
    "        # Then apply the controlled rotations, with weights (angles) defined by the distance to the control qubit.\n",
    "        # Start on the qubit after qubit k, and iterate until the end.  When num_qubits==1, this loop does not run.\n",
    "        for j in range(1,num_qubits - k):\n",
    "            angle = 2*math.pi/(2**(j+1))\n",
    "            qftcirc.cphaseshift(qubits[k+j],qubits[k], angle)\n",
    "            \n",
    "    # Then add SWAP gates to reverse the order of the qubits:\n",
    "    for i in range(math.floor(num_qubits/2)):\n",
    "        qftcirc.swap(qubits[i], qubits[-i-1])\n",
    "        \n",
    "    return qftcirc"
   ]
  },
  {
   "cell_type": "code",
   "execution_count": 8,
   "id": "eca5c79d-cac9-4ab3-bad9-ee40d8ebce6c",
   "metadata": {},
   "outputs": [
    {
     "name": "stdout",
     "output_type": "stream",
     "text": [
      "QFT CIRCUIT:\n",
      "T  : |0|     1     |2| 3  |\n",
      "                           \n",
      "q0 : -H-PHASE(1.57)---SWAP-\n",
      "        |             |    \n",
      "q1 : ---C-----------H-SWAP-\n",
      "\n",
      "T  : |0|     1     |2| 3  |\n"
     ]
    }
   ],
   "source": [
    "# show inverse QFT example circuit\n",
    "num_qubits = 2\n",
    "qubits=range(num_qubits)\n",
    "my_qft_circ = qft(qubits)\n",
    "print('QFT CIRCUIT:')\n",
    "print(my_qft_circ)"
   ]
  },
  {
   "cell_type": "code",
   "execution_count": 11,
   "id": "304a0753-3a5d-43e6-a66c-250242600f23",
   "metadata": {},
   "outputs": [],
   "source": [
    "state_prepare = Circuit().h(range(2)).rz(q0,-pi).rz(q1,pi)"
   ]
  },
  {
   "cell_type": "code",
   "execution_count": 12,
   "id": "974bbccc-bf2a-4bbf-97a7-2e3719b98a0e",
   "metadata": {},
   "outputs": [
    {
     "data": {
      "text/plain": [
       "Circuit('instructions': [Instruction('operator': H('qubit_count': 1), 'target': QubitSet([Qubit(0)])), Instruction('operator': H('qubit_count': 1), 'target': QubitSet([Qubit(1)])), Instruction('operator': Rz('angle': -3.14, 'qubit_count': 1), 'target': QubitSet([Qubit(0)])), Instruction('operator': Rz('angle': 3.14, 'qubit_count': 1), 'target': QubitSet([Qubit(1)])), Instruction('operator': H('qubit_count': 1), 'target': QubitSet([Qubit(0)])), Instruction('operator': CPhaseShift('angle': 1.5707963267948966, 'qubit_count': 2), 'target': QubitSet([Qubit(1), Qubit(0)])), Instruction('operator': H('qubit_count': 1), 'target': QubitSet([Qubit(1)])), Instruction('operator': Swap('qubit_count': 2), 'target': QubitSet([Qubit(0), Qubit(1)]))])"
      ]
     },
     "execution_count": 12,
     "metadata": {},
     "output_type": "execute_result"
    }
   ],
   "source": [
    "state_prepare.add(my_qft_circ)\n"
   ]
  },
  {
   "cell_type": "code",
   "execution_count": 13,
   "id": "aaeca0d6-8ca8-43ba-ad11-dcf2b0ff91a7",
   "metadata": {},
   "outputs": [
    {
     "name": "stdout",
     "output_type": "stream",
     "text": [
      "T  : |0|    1    |2|     3     |4| 5  |\n",
      "                                       \n",
      "q0 : -H-Rz(-3.14)-H-PHASE(1.57)---SWAP-\n",
      "                    |             |    \n",
      "q1 : -H-Rz(3.14)----C-----------H-SWAP-\n",
      "\n",
      "T  : |0|    1    |2|     3     |4| 5  |\n"
     ]
    }
   ],
   "source": [
    "print(state_prepare)"
   ]
  },
  {
   "cell_type": "code",
   "execution_count": 14,
   "id": "0d1d1802-1836-41da-ab28-69caf7867c78",
   "metadata": {},
   "outputs": [],
   "source": [
    "shots = 1000"
   ]
  },
  {
   "cell_type": "markdown",
   "id": "eba15589-50d1-43f9-8bad-9a394a49fba2",
   "metadata": {},
   "source": [
    "### Run on a local simulator"
   ]
  },
  {
   "cell_type": "code",
   "execution_count": 20,
   "id": "98bd69de-f25e-4ad2-9d06-c00bf69b64dd",
   "metadata": {},
   "outputs": [],
   "source": [
    "device = LocalSimulator()"
   ]
  },
  {
   "cell_type": "code",
   "execution_count": 21,
   "id": "2011592c-e84b-45e1-9974-c67f60adf30a",
   "metadata": {},
   "outputs": [
    {
     "name": "stdout",
     "output_type": "stream",
     "text": [
      "Status of task: COMPLETED\n",
      "Counter({'01': 530, '11': 470})\n"
     ]
    },
    {
     "data": {
      "image/png": "[encoded data removed]",
      "text/plain": [
       "<Figure size 640x480 with 1 Axes>"
      ]
     },
     "metadata": {},
     "output_type": "display_data"
    }
   ],
   "source": [
    "# define task (asynchronous)\n",
    "task = device.run(state_prepare, \n",
    "                  shots=shots)\n",
    "\n",
    "# get id and status of submitted task\n",
    "task_id = task.id\n",
    "status = task.state()\n",
    "# print('ID of task:', task_id)\n",
    "print('Status of task:', status)\n",
    "\n",
    "# wait for job to complete\n",
    "while status != 'COMPLETED':\n",
    "    status = task.state()\n",
    "    print('Status:', status)\n",
    "\n",
    "# get results of task\n",
    "result = task.result()\n",
    "\n",
    "# get measurement shots\n",
    "counts = result.measurement_counts\n",
    "\n",
    "print(counts)\n",
    "\n",
    "# plot using Counter\n",
    "plt.bar(counts.keys(), counts.values());\n",
    "plt.xlabel('bitstrings');\n",
    "plt.ylabel('counts');"
   ]
  },
  {
   "cell_type": "markdown",
   "id": "c0d975e7-15c8-4053-b160-9891c72739c1",
   "metadata": {},
   "source": [
    "### Run on a QPU"
   ]
  },
  {
   "cell_type": "code",
   "execution_count": null,
   "id": "3dd2e484-dea9-4ada-a9d8-7fdf7dc5677f",
   "metadata": {},
   "outputs": [],
   "source": [
    "device = AwsDevice(\"arn:aws:braket:::device/qpu/ionq/ionQdevice\")"
   ]
  },
  {
   "cell_type": "code",
   "execution_count": null,
   "id": "82f3343d-c127-4d19-b38a-7dcb1d2dbd78",
   "metadata": {},
   "outputs": [],
   "source": [
    "# run circuit \n",
    "qpu_task = device.run(circuit, shots=shots)\n",
    "\n",
    "# get id and status of submitted task\n",
    "qpu_task_id = qpu_task.id\n",
    "qpu_status = qpu_task.state()\n",
    "print('Status of task:', qpu_status)"
   ]
  },
  {
   "cell_type": "code",
   "execution_count": null,
   "id": "1aa1a500-9669-4244-88f9-9b36fabc5e22",
   "metadata": {},
   "outputs": [],
   "source": [
    "# recover task\n",
    "task_load = AwsQuantumTask(arn=qpu_task_id)\n",
    "\n",
    "# print status\n",
    "status = task_load.state()\n",
    "print('Status of (reconstructed) task:', status)\n",
    "\n",
    "# wait for job to complete\n",
    "# terminal_states = ['COMPLETED', 'FAILED', 'CANCELLED']\n",
    "if status == 'COMPLETED':\n",
    "    # get results\n",
    "    results = task_load.result()\n",
    "    \n",
    "    # get all metadata of submitted task\n",
    "    metadata = task_load.metadata()\n",
    "    # example for metadata\n",
    "    shots = metadata['shots']\n",
    "    machine = metadata['deviceArn']\n",
    "    # print example metadata\n",
    "    print(\"{} shots taken on machine {}.\".format(shots, machine))\n",
    "    \n",
    "    # get measurement counts\n",
    "    counts = results.measurement_counts\n",
    "    print('Measurement counts:', counts)\n",
    "\n",
    "    # plot results: see effects of noise\n",
    "    plt.bar(counts.keys(), counts.values());\n",
    "    plt.xlabel('bitstrings');\n",
    "    plt.ylabel('counts');\n",
    "    plt.tight_layout();\n",
    "    plt.savefig('ionq.png', dpi=700);\n",
    "    \n",
    "elif status in ['FAILED', 'CANCELLED']:\n",
    "    # print terminal message \n",
    "    print('Your task is in terminal status, but has not completed.')\n",
    "\n",
    "else:\n",
    "    # print current status\n",
    "    print('Sorry, your task is still being processed and has not been finalized yet.')"
   ]
  },
  {
   "cell_type": "code",
   "execution_count": null,
   "id": "edd03f1a-1e8e-4b4b-89fa-bf7ad8bf6083",
   "metadata": {},
   "outputs": [],
   "source": [
    "print(\n",
    "    f\"Estimated cost to run this example: {tracker.qpu_tasks_cost() + tracker.simulator_tasks_cost():.2f} USD\"\n",
    ")"
   ]
  },
  {
   "cell_type": "code",
   "execution_count": 19,
   "id": "08015a64-9eb4-4a0d-b4c9-be20ffa77d8f",
   "metadata": {},
   "outputs": [
    {
     "name": "stdout",
     "output_type": "stream",
     "text": [
      "['01', '11']\n"
     ]
    }
   ],
   "source": [
    "# Threshold the low-probability values of gamma\n",
    "probability_threshold = 0.3\n",
    "valid_gamma = []\n",
    "\n",
    "for k in counts.keys():\n",
    "    probability = counts[k]/1000\n",
    "    if probability > probability_threshold:\n",
    "        valid_gamma.append(k)\n",
    "        \n",
    "print(valid_gamma)"
   ]
  },
  {
   "cell_type": "markdown",
   "id": "0a97ee3f-6a26-4b03-b1ca-2abf298a83b5",
   "metadata": {},
   "source": [
    "# Step4: Classical Post-Processing"
   ]
  },
  {
   "cell_type": "code",
   "execution_count": null,
   "id": "d5e03f12-e5db-443f-8b80-143d845b428d",
   "metadata": {},
   "outputs": [],
   "source": []
  }
 ],
 "metadata": {
  "kernelspec": {
   "display_name": "Python 3 (ipykernel)",
   "language": "python",
   "name": "python3"
  },
  "language_info": {
   "codemirror_mode": {
    "name": "ipython",
    "version": 3
   },
   "file_extension": ".py",
   "mimetype": "text/x-python",
   "name": "python",
   "nbconvert_exporter": "python",
   "pygments_lexer": "ipython3",
   "version": "3.9.13"
  }
 },
 "nbformat": 4,
 "nbformat_minor": 5
}
