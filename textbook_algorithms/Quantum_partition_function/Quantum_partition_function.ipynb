{
 "cells": [
  {
   "cell_type": "markdown",
   "id": "e0c3a250-e049-43fa-8721-3d819dfa50ac",
   "metadata": {},
   "source": [
    "# Quantum Partition Function\n",
    "\n",
    "The partition function is of particular interest for calculating probabilities from graphical models such Markov random fields [1]. It \n",
    "becomes intractable even for small networks [2]. In this example, the graphical model form known as the Potts model is considered. The\n",
    " efficient quantum algorithm is implemented for the partition function [3]. The full partition function algorithm consists of the \n",
    " following four steps:\n",
    " \n",
    " * step 1: Classical Preprocessing\n",
    " * step 2: Irreducible Cyclic Cocycle Code Check\n",
    " * step 3: State Preparation and Quantum Fourier Transform\n",
    " * step 4: Classical Post-Processing"
   ]
  },
  {
   "cell_type": "markdown",
   "id": "549cddea-bbd0-4920-806b-9cb35c65ef83",
   "metadata": {},
   "source": [
    "# References\n",
    "\n",
    "[1] Koller, Daphne, and Nir Friedman. Probabilistic graphical models: principles and techniques. MIT press, 2009.\n",
    "\n",
    "[2] Adedoyin, Adetokunbo, et al. \"Quantum algorithm implementations for beginners.\" arXiv preprint arXiv:1804.03719 (2018).\n",
    "\n",
    "[3] Geraci, Joseph, and Daniel A. Lidar. \"On the exact evaluation of certain instances of the Potts partition function by quantum computers.\" Communications in mathematical physics 279.3 (2008): 735-768."
   ]
  },
  {
   "cell_type": "code",
   "execution_count": 1,
   "id": "8dfcc037-76dc-4e9e-8995-28e5a661256a",
   "metadata": {},
   "outputs": [],
   "source": [
    "# Use Braket SDK Cost Tracking to estimate the cost to run this example\n",
    "from braket.tracking import Tracker\n",
    "t = Tracker().start()"
   ]
  },
  {
   "cell_type": "markdown",
   "id": "2a03718b-acf4-44ce-bd62-3913549bdca8",
   "metadata": {},
   "source": [
    "## IMPORT STATEMENTS\n",
    "\n",
    "First we import some modules we will need."
   ]
  },
  {
   "cell_type": "code",
   "execution_count": 5,
   "id": "694b118c-09a8-48da-8819-166d2f80eabe",
   "metadata": {},
   "outputs": [],
   "source": [
    "# general imports\n",
    "import asyncio\n",
    "import numpy as np\n",
    "import matplotlib.pyplot as plt\n",
    "# magic word for producing visualizations in notebook\n",
    "%matplotlib inline\n",
    "import string\n",
    "from datetime import datetime\n",
    "import logging\n",
    "\n",
    "# AWS imports: Import Braket SDK modules\n",
    "from braket.circuits import Circuit, Gate, Instruction, circuit, Observable\n",
    "from braket.aws import AwsDevice, AwsQuantumTask\n",
    "from braket.devices import LocalSimulator"
   ]
  },
  {
   "cell_type": "markdown",
   "id": "0b45d253-57fc-49f5-8c52-e15be5f475bd",
   "metadata": {},
   "source": [
    "1. graph - irreducible cyclic cocycle code (ICCC) check\n",
    "2. identify the linear code C() for which we shall determine the weight spectrum\n",
    "3. gauss sum estimation\n",
    "4. weight spectrum \n",
    "5. weight spectrum of a code and Z"
   ]
  },
  {
   "cell_type": "markdown",
   "id": "46d900f5-1f35-4402-8e3a-cd5bb50235fb",
   "metadata": {},
   "source": [
    "## Classical Preprocessing"
   ]
  },
  {
   "cell_type": "markdown",
   "id": "1c550986-6d64-4d10-99e3-d09bd790f435",
   "metadata": {},
   "source": [
    "## Irreducible Cyclic Code Via Shor's"
   ]
  },
  {
   "cell_type": "markdown",
   "id": "3eebf7e4-7b2c-4e81-82c9-ddec698bc00f",
   "metadata": {},
   "source": [
    "## State Preparation and Quantum Fourier Transform"
   ]
  },
  {
   "cell_type": "code",
   "execution_count": 38,
   "id": "b4191486-1375-4617-ab77-59a79e328106",
   "metadata": {},
   "outputs": [
    {
     "data": {
      "text/plain": [
       "3.14"
      ]
     },
     "execution_count": 38,
     "metadata": {},
     "output_type": "execute_result"
    }
   ],
   "source": [
    "pi/4 *4"
   ]
  },
  {
   "cell_type": "code",
   "execution_count": 42,
   "id": "f2040d04-1ddf-4388-ba58-9660d5fedb1b",
   "metadata": {},
   "outputs": [
    {
     "name": "stdout",
     "output_type": "stream",
     "text": [
      "T  : |0|    1    |   2    |3|    4    |5|   6    |7|8|9|10|11|\n",
      "                                                              \n",
      "q0 : -H-Rz(-3.14)-H--------X-Rz(-0.79)-X-Rz(0.79)-X-H-X-H--X--\n",
      "                           |           |          |   |    |  \n",
      "q1 : -H-Rz(3.14)--Rz(0.79)-C-----------C-H--------C-H-C-H--C--\n",
      "\n",
      "T  : |0|    1    |   2    |3|    4    |5|   6    |7|8|9|10|11|\n"
     ]
    }
   ],
   "source": [
    "pi = 3.14\n",
    "q0 = 0\n",
    "q1 = 1\n",
    "my_circuit = Circuit().h(range(2)).rz(q0,-pi).rz(q1,pi).h(q0).rz(q1,pi/4).cnot(q1,q0).rz(q0,-pi/4).cnot(q1,q0).rz(q0,pi/4).h(q1).cnot(q1,q0).h(range(2)).cnot(q1,q0).h(range(2)).cnot(q1,q0)\n",
    "\n",
    "print(my_circuit)"
   ]
  },
  {
   "cell_type": "code",
   "execution_count": 43,
   "id": "422daa6f-b40e-486f-a492-8917cdab8271",
   "metadata": {},
   "outputs": [],
   "source": [
    "# set up the device to be the on-demand simulator\n",
    "# device = AwsDevice(\"arn:aws:braket:::device/quantum-simulator/amazon/sv1\")\n",
    "device = LocalSimulator()"
   ]
  },
  {
   "cell_type": "code",
   "execution_count": 64,
   "id": "a64f191d-2829-4da0-8ce9-26963c8e7b99",
   "metadata": {},
   "outputs": [
    {
     "name": "stdout",
     "output_type": "stream",
     "text": [
      "Status of task: COMPLETED\n",
      "Counter({'01': 507, '11': 493})\n"
     ]
    },
    {
     "data": {
      "image/png": "[encoded data removed]",
      "text/plain": [
       "<Figure size 640x480 with 1 Axes>"
      ]
     },
     "metadata": {},
     "output_type": "display_data"
    }
   ],
   "source": [
    "# define task (asynchronous)\n",
    "task = device.run(my_circuit, \n",
    "                  shots=1000)\n",
    "\n",
    "# get id and status of submitted task\n",
    "task_id = task.id\n",
    "status = task.state()\n",
    "# print('ID of task:', task_id)\n",
    "print('Status of task:', status)\n",
    "\n",
    "# wait for job to complete\n",
    "while status != 'COMPLETED':\n",
    "    status = task.state()\n",
    "    print('Status:', status)\n",
    "\n",
    "# get results of task\n",
    "result = task.result()\n",
    "\n",
    "# get measurement shots\n",
    "counts = result.measurement_counts\n",
    "\n",
    "# reverse_counts = {}\n",
    "\n",
    "# for k in counts.keys():\n",
    "#     r_k = k[::-1]\n",
    "#     reverse_counts[r_k] = counts[k]\n",
    "\n",
    "# print counts\n",
    "print(counts)\n",
    "# print(reverse_counts)\n",
    "\n",
    "# plot using Counter\n",
    "plt.bar(counts.keys(), counts.values());\n",
    "plt.xlabel('bitstrings');\n",
    "plt.ylabel('counts');"
   ]
  },
  {
   "cell_type": "markdown",
   "id": "0a97ee3f-6a26-4b03-b1ca-2abf298a83b5",
   "metadata": {},
   "source": [
    "## Classical Post-Processing"
   ]
  },
  {
   "cell_type": "code",
   "execution_count": 2,
   "id": "1137f6dc-05dd-4838-89af-2628b76e709e",
   "metadata": {},
   "outputs": [],
   "source": [
    "partition_func_qasm = \"\"\"\n",
    "\n",
    "qreg q[5];\n",
    "creg c[5];\n",
    "\n",
    "h q[0];\n",
    "h q[1];\n",
    "u1(-pi) q[0];\n",
    "u1(pi) q[1];\n",
    "barrier q[0],q[1],q[2],q[3],q[4];\n",
    "h q[0];\n",
    "u1(pi/4) q[1];\n",
    "cx q[1],q[0];\n",
    "u1(-pi/4) q[0];\n",
    "cx q[1],q[0];\n",
    "u1(pi/4) q[0];\n",
    "h q[1];\n",
    "cx q[1],q[0];\n",
    "h q[0];\n",
    "h q[1];\n",
    "cx q[1],q[0];\n",
    "h q[0];\n",
    "h q[1];\n",
    "cx q[1],q[0];\n",
    "measure q[0] -> c[0];\n",
    "measure q[1] -> c[1];\n",
    "\n",
    "\"\"\""
   ]
  },
  {
   "cell_type": "code",
   "execution_count": null,
   "id": "3caac895-1b4e-498b-ad04-60823a7796d4",
   "metadata": {},
   "outputs": [],
   "source": [
    "partition_func_qasm = \"\"\"\n",
    "OPENQASM 3;\n",
    "\n",
    "qubit[5] q;\n",
    "bit[5] c;\n",
    "\n",
    "h q[0];\n",
    "h q[1];\n",
    "u1(-pi) q[0];\n",
    "u1(pi) q[1];\n",
    "barrier q[0],q[1],q[2],q[3],q[4];\n",
    "h q[0];\n",
    "u1(pi/4) q[1];\n",
    "cx q[1],q[0];\n",
    "u1(-pi/4) q[0];\n",
    "cx q[1],q[0];\n",
    "u1(pi/4) q[0];\n",
    "h q[1];\n",
    "cx q[1],q[0];\n",
    "h q[0];\n",
    "h q[1];\n",
    "cx q[1],q[0];\n",
    "h q[0];\n",
    "h q[1];\n",
    "cx q[1],q[0];\n",
    "measure q[0] -> c[0];\n",
    "measure q[1] -> c[1];\n",
    "\n",
    "\"\"\""
   ]
  },
  {
   "cell_type": "code",
   "execution_count": null,
   "id": "a22710d3-c50e-44c0-b887-39dd779efb8d",
   "metadata": {},
   "outputs": [],
   "source": []
  },
  {
   "cell_type": "code",
   "execution_count": 3,
   "id": "a4173aac-c83d-4d04-85d9-9ae859d96821",
   "metadata": {},
   "outputs": [],
   "source": [
    "import boto3\n",
    "import json\n",
    "from braket.aws import AwsDevice"
   ]
  },
  {
   "cell_type": "code",
   "execution_count": 4,
   "id": "c3e66a57-1172-4b19-9432-1fe562c9fb67",
   "metadata": {},
   "outputs": [
    {
     "ename": "ValidationException",
     "evalue": "An error occurred (ValidationException) when calling the CreateQuantumTask operation: [line 8] uses a gate: u1 which is not supported by the device or defined via a defcal",
     "output_type": "error",
     "traceback": [
      "\u001b[0;31m---------------------------------------------------------------------------\u001b[0m",
      "\u001b[0;31mValidationException\u001b[0m                       Traceback (most recent call last)",
      "Cell \u001b[0;32mIn [4], line 7\u001b[0m\n\u001b[1;32m      3\u001b[0m sv1 \u001b[38;5;241m=\u001b[39m AwsDevice(\u001b[38;5;124m\"\u001b[39m\u001b[38;5;124marn:aws:braket:::device/quantum-simulator/amazon/sv1\u001b[39m\u001b[38;5;124m\"\u001b[39m)\n\u001b[1;32m      5\u001b[0m bell_program \u001b[38;5;241m=\u001b[39m OpenQASMProgram(source\u001b[38;5;241m=\u001b[39mpartition_func_qasm)\n\u001b[0;32m----> 7\u001b[0m bell_task \u001b[38;5;241m=\u001b[39m \u001b[43msv1\u001b[49m\u001b[38;5;241;43m.\u001b[39;49m\u001b[43mrun\u001b[49m\u001b[43m(\u001b[49m\n\u001b[1;32m      8\u001b[0m \u001b[43m    \u001b[49m\u001b[43mbell_program\u001b[49m\u001b[43m,\u001b[49m\u001b[43m \u001b[49m\n\u001b[1;32m      9\u001b[0m \u001b[43m    \u001b[49m\u001b[43mshots\u001b[49m\u001b[38;5;241;43m=\u001b[39;49m\u001b[38;5;241;43m100\u001b[39;49m\u001b[43m,\u001b[49m\u001b[43m \u001b[49m\n\u001b[1;32m     10\u001b[0m \u001b[43m)\u001b[49m\n",
      "File \u001b[0;32m/opt/conda/envs/pytorch/lib/python3.9/site-packages/braket/aws/aws_device.py:143\u001b[0m, in \u001b[0;36mAwsDevice.run\u001b[0;34m(self, task_specification, s3_destination_folder, shots, poll_timeout_seconds, poll_interval_seconds, *aws_quantum_task_args, **aws_quantum_task_kwargs)\u001b[0m\n\u001b[1;32m     83\u001b[0m \u001b[38;5;28;01mdef\u001b[39;00m \u001b[38;5;21mrun\u001b[39m(\n\u001b[1;32m     84\u001b[0m     \u001b[38;5;28mself\u001b[39m,\n\u001b[1;32m     85\u001b[0m     task_specification: Union[Circuit, Problem, OpenQasmProgram, BlackbirdProgram],\n\u001b[0;32m   (...)\u001b[0m\n\u001b[1;32m     91\u001b[0m     \u001b[38;5;241m*\u001b[39m\u001b[38;5;241m*\u001b[39maws_quantum_task_kwargs,\n\u001b[1;32m     92\u001b[0m ) \u001b[38;5;241m-\u001b[39m\u001b[38;5;241m>\u001b[39m AwsQuantumTask:\n\u001b[1;32m     93\u001b[0m     \u001b[38;5;124;03m\"\"\"\u001b[39;00m\n\u001b[1;32m     94\u001b[0m \u001b[38;5;124;03m    Run a quantum task specification on this device. A task can be a circuit or an\u001b[39;00m\n\u001b[1;32m     95\u001b[0m \u001b[38;5;124;03m    annealing problem.\u001b[39;00m\n\u001b[0;32m   (...)\u001b[0m\n\u001b[1;32m    141\u001b[0m \u001b[38;5;124;03m        `braket.aws.aws_quantum_task.AwsQuantumTask.create()`\u001b[39;00m\n\u001b[1;32m    142\u001b[0m \u001b[38;5;124;03m    \"\"\"\u001b[39;00m\n\u001b[0;32m--> 143\u001b[0m     \u001b[38;5;28;01mreturn\u001b[39;00m \u001b[43mAwsQuantumTask\u001b[49m\u001b[38;5;241;43m.\u001b[39;49m\u001b[43mcreate\u001b[49m\u001b[43m(\u001b[49m\n\u001b[1;32m    144\u001b[0m \u001b[43m        \u001b[49m\u001b[38;5;28;43mself\u001b[39;49m\u001b[38;5;241;43m.\u001b[39;49m\u001b[43m_aws_session\u001b[49m\u001b[43m,\u001b[49m\n\u001b[1;32m    145\u001b[0m \u001b[43m        \u001b[49m\u001b[38;5;28;43mself\u001b[39;49m\u001b[38;5;241;43m.\u001b[39;49m\u001b[43m_arn\u001b[49m\u001b[43m,\u001b[49m\n\u001b[1;32m    146\u001b[0m \u001b[43m        \u001b[49m\u001b[43mtask_specification\u001b[49m\u001b[43m,\u001b[49m\n\u001b[1;32m    147\u001b[0m \u001b[43m        \u001b[49m\u001b[43ms3_destination_folder\u001b[49m\n\u001b[1;32m    148\u001b[0m \u001b[43m        \u001b[49m\u001b[38;5;129;43;01mor\u001b[39;49;00m\u001b[43m \u001b[49m\u001b[43m(\u001b[49m\n\u001b[1;32m    149\u001b[0m \u001b[43m            \u001b[49m\u001b[43mAwsSession\u001b[49m\u001b[38;5;241;43m.\u001b[39;49m\u001b[43mparse_s3_uri\u001b[49m\u001b[43m(\u001b[49m\u001b[43mos\u001b[49m\u001b[38;5;241;43m.\u001b[39;49m\u001b[43menviron\u001b[49m\u001b[38;5;241;43m.\u001b[39;49m\u001b[43mget\u001b[49m\u001b[43m(\u001b[49m\u001b[38;5;124;43m\"\u001b[39;49m\u001b[38;5;124;43mAMZN_BRAKET_TASK_RESULTS_S3_URI\u001b[39;49m\u001b[38;5;124;43m\"\u001b[39;49m\u001b[43m)\u001b[49m\u001b[43m)\u001b[49m\n\u001b[1;32m    150\u001b[0m \u001b[43m            \u001b[49m\u001b[38;5;28;43;01mif\u001b[39;49;00m\u001b[43m \u001b[49m\u001b[38;5;124;43m\"\u001b[39;49m\u001b[38;5;124;43mAMZN_BRAKET_TASK_RESULTS_S3_URI\u001b[39;49m\u001b[38;5;124;43m\"\u001b[39;49m\u001b[43m \u001b[49m\u001b[38;5;129;43;01min\u001b[39;49;00m\u001b[43m \u001b[49m\u001b[43mos\u001b[49m\u001b[38;5;241;43m.\u001b[39;49m\u001b[43menviron\u001b[49m\n\u001b[1;32m    151\u001b[0m \u001b[43m            \u001b[49m\u001b[38;5;28;43;01melse\u001b[39;49;00m\u001b[43m \u001b[49m\u001b[38;5;28;43;01mNone\u001b[39;49;00m\n\u001b[1;32m    152\u001b[0m \u001b[43m        \u001b[49m\u001b[43m)\u001b[49m\n\u001b[1;32m    153\u001b[0m \u001b[43m        \u001b[49m\u001b[38;5;129;43;01mor\u001b[39;49;00m\u001b[43m \u001b[49m\u001b[43m(\u001b[49m\u001b[38;5;28;43mself\u001b[39;49m\u001b[38;5;241;43m.\u001b[39;49m\u001b[43m_aws_session\u001b[49m\u001b[38;5;241;43m.\u001b[39;49m\u001b[43mdefault_bucket\u001b[49m\u001b[43m(\u001b[49m\u001b[43m)\u001b[49m\u001b[43m,\u001b[49m\u001b[43m \u001b[49m\u001b[38;5;124;43m\"\u001b[39;49m\u001b[38;5;124;43mtasks\u001b[39;49m\u001b[38;5;124;43m\"\u001b[39;49m\u001b[43m)\u001b[49m\u001b[43m,\u001b[49m\n\u001b[1;32m    154\u001b[0m \u001b[43m        \u001b[49m\u001b[43mshots\u001b[49m\u001b[43m \u001b[49m\u001b[38;5;28;43;01mif\u001b[39;49;00m\u001b[43m \u001b[49m\u001b[43mshots\u001b[49m\u001b[43m \u001b[49m\u001b[38;5;129;43;01mis\u001b[39;49;00m\u001b[43m \u001b[49m\u001b[38;5;129;43;01mnot\u001b[39;49;00m\u001b[43m \u001b[49m\u001b[38;5;28;43;01mNone\u001b[39;49;00m\u001b[43m \u001b[49m\u001b[38;5;28;43;01melse\u001b[39;49;00m\u001b[43m \u001b[49m\u001b[38;5;28;43mself\u001b[39;49m\u001b[38;5;241;43m.\u001b[39;49m\u001b[43m_default_shots\u001b[49m\u001b[43m,\u001b[49m\n\u001b[1;32m    155\u001b[0m \u001b[43m        \u001b[49m\u001b[43mpoll_timeout_seconds\u001b[49m\u001b[38;5;241;43m=\u001b[39;49m\u001b[43mpoll_timeout_seconds\u001b[49m\u001b[43m,\u001b[49m\n\u001b[1;32m    156\u001b[0m \u001b[43m        \u001b[49m\u001b[43mpoll_interval_seconds\u001b[49m\u001b[38;5;241;43m=\u001b[39;49m\u001b[43mpoll_interval_seconds\u001b[49m\u001b[43m,\u001b[49m\n\u001b[1;32m    157\u001b[0m \u001b[43m        \u001b[49m\u001b[38;5;241;43m*\u001b[39;49m\u001b[43maws_quantum_task_args\u001b[49m\u001b[43m,\u001b[49m\n\u001b[1;32m    158\u001b[0m \u001b[43m        \u001b[49m\u001b[38;5;241;43m*\u001b[39;49m\u001b[38;5;241;43m*\u001b[39;49m\u001b[43maws_quantum_task_kwargs\u001b[49m\u001b[43m,\u001b[49m\n\u001b[1;32m    159\u001b[0m \u001b[43m    \u001b[49m\u001b[43m)\u001b[49m\n",
      "File \u001b[0;32m/opt/conda/envs/pytorch/lib/python3.9/site-packages/braket/aws/aws_quantum_task.py:156\u001b[0m, in \u001b[0;36mAwsQuantumTask.create\u001b[0;34m(aws_session, device_arn, task_specification, s3_destination_folder, shots, device_parameters, disable_qubit_rewiring, tags, *args, **kwargs)\u001b[0m\n\u001b[1;32m    151\u001b[0m \u001b[38;5;28;01mif\u001b[39;00m \u001b[38;5;28misinstance\u001b[39m(task_specification, Circuit) \u001b[38;5;129;01mand\u001b[39;00m task_specification\u001b[38;5;241m.\u001b[39mparameters:\n\u001b[1;32m    152\u001b[0m     \u001b[38;5;28;01mraise\u001b[39;00m \u001b[38;5;167;01mValueError\u001b[39;00m(\n\u001b[1;32m    153\u001b[0m         \u001b[38;5;124mf\u001b[39m\u001b[38;5;124m\"\u001b[39m\u001b[38;5;124mCannot execute circuit with unbound parameters: \u001b[39m\u001b[38;5;124m\"\u001b[39m\n\u001b[1;32m    154\u001b[0m         \u001b[38;5;124mf\u001b[39m\u001b[38;5;124m\"\u001b[39m\u001b[38;5;132;01m{\u001b[39;00mtask_specification\u001b[38;5;241m.\u001b[39mparameters\u001b[38;5;132;01m}\u001b[39;00m\u001b[38;5;124m\"\u001b[39m\n\u001b[1;32m    155\u001b[0m     )\n\u001b[0;32m--> 156\u001b[0m \u001b[38;5;28;01mreturn\u001b[39;00m \u001b[43m_create_internal\u001b[49m\u001b[43m(\u001b[49m\n\u001b[1;32m    157\u001b[0m \u001b[43m    \u001b[49m\u001b[43mtask_specification\u001b[49m\u001b[43m,\u001b[49m\n\u001b[1;32m    158\u001b[0m \u001b[43m    \u001b[49m\u001b[43maws_session\u001b[49m\u001b[43m,\u001b[49m\n\u001b[1;32m    159\u001b[0m \u001b[43m    \u001b[49m\u001b[43mcreate_task_kwargs\u001b[49m\u001b[43m,\u001b[49m\n\u001b[1;32m    160\u001b[0m \u001b[43m    \u001b[49m\u001b[43mdevice_arn\u001b[49m\u001b[43m,\u001b[49m\n\u001b[1;32m    161\u001b[0m \u001b[43m    \u001b[49m\u001b[43mdevice_parameters\u001b[49m\u001b[43m \u001b[49m\u001b[38;5;129;43;01mor\u001b[39;49;00m\u001b[43m \u001b[49m\u001b[43m{\u001b[49m\u001b[43m}\u001b[49m\u001b[43m,\u001b[49m\n\u001b[1;32m    162\u001b[0m \u001b[43m    \u001b[49m\u001b[43mdisable_qubit_rewiring\u001b[49m\u001b[43m,\u001b[49m\n\u001b[1;32m    163\u001b[0m \u001b[43m    \u001b[49m\u001b[38;5;241;43m*\u001b[39;49m\u001b[43margs\u001b[49m\u001b[43m,\u001b[49m\n\u001b[1;32m    164\u001b[0m \u001b[43m    \u001b[49m\u001b[38;5;241;43m*\u001b[39;49m\u001b[38;5;241;43m*\u001b[39;49m\u001b[43mkwargs\u001b[49m\u001b[43m,\u001b[49m\n\u001b[1;32m    165\u001b[0m \u001b[43m\u001b[49m\u001b[43m)\u001b[49m\n",
      "File \u001b[0;32m/opt/conda/envs/pytorch/lib/python3.9/functools.py:888\u001b[0m, in \u001b[0;36msingledispatch.<locals>.wrapper\u001b[0;34m(*args, **kw)\u001b[0m\n\u001b[1;32m    884\u001b[0m \u001b[38;5;28;01mif\u001b[39;00m \u001b[38;5;129;01mnot\u001b[39;00m args:\n\u001b[1;32m    885\u001b[0m     \u001b[38;5;28;01mraise\u001b[39;00m \u001b[38;5;167;01mTypeError\u001b[39;00m(\u001b[38;5;124mf\u001b[39m\u001b[38;5;124m'\u001b[39m\u001b[38;5;132;01m{\u001b[39;00mfuncname\u001b[38;5;132;01m}\u001b[39;00m\u001b[38;5;124m requires at least \u001b[39m\u001b[38;5;124m'\u001b[39m\n\u001b[1;32m    886\u001b[0m                     \u001b[38;5;124m'\u001b[39m\u001b[38;5;124m1 positional argument\u001b[39m\u001b[38;5;124m'\u001b[39m)\n\u001b[0;32m--> 888\u001b[0m \u001b[38;5;28;01mreturn\u001b[39;00m \u001b[43mdispatch\u001b[49m\u001b[43m(\u001b[49m\u001b[43margs\u001b[49m\u001b[43m[\u001b[49m\u001b[38;5;241;43m0\u001b[39;49m\u001b[43m]\u001b[49m\u001b[38;5;241;43m.\u001b[39;49m\u001b[38;5;18;43m__class__\u001b[39;49m\u001b[43m)\u001b[49m\u001b[43m(\u001b[49m\u001b[38;5;241;43m*\u001b[39;49m\u001b[43margs\u001b[49m\u001b[43m,\u001b[49m\u001b[43m \u001b[49m\u001b[38;5;241;43m*\u001b[39;49m\u001b[38;5;241;43m*\u001b[39;49m\u001b[43mkw\u001b[49m\u001b[43m)\u001b[49m\n",
      "File \u001b[0;32m/opt/conda/envs/pytorch/lib/python3.9/site-packages/braket/aws/aws_quantum_task.py:470\u001b[0m, in \u001b[0;36m_\u001b[0;34m(open_qasm_program, aws_session, create_task_kwargs, device_arn, _device_parameters, _disable_qubit_rewiring, *args, **kwargs)\u001b[0m\n\u001b[1;32m    466\u001b[0m     \u001b[38;5;28;01mraise\u001b[39;00m \u001b[38;5;167;01mValueError\u001b[39;00m(\n\u001b[1;32m    467\u001b[0m         \u001b[38;5;124m\"\u001b[39m\u001b[38;5;124mOpenQASM Program inputs are only currently supported in the LocalSimulator.\u001b[39m\u001b[38;5;124m\"\u001b[39m\n\u001b[1;32m    468\u001b[0m     )\n\u001b[1;32m    469\u001b[0m create_task_kwargs\u001b[38;5;241m.\u001b[39mupdate({\u001b[38;5;124m\"\u001b[39m\u001b[38;5;124maction\u001b[39m\u001b[38;5;124m\"\u001b[39m: open_qasm_program\u001b[38;5;241m.\u001b[39mjson()})\n\u001b[0;32m--> 470\u001b[0m task_arn \u001b[38;5;241m=\u001b[39m \u001b[43maws_session\u001b[49m\u001b[38;5;241;43m.\u001b[39;49m\u001b[43mcreate_quantum_task\u001b[49m\u001b[43m(\u001b[49m\u001b[38;5;241;43m*\u001b[39;49m\u001b[38;5;241;43m*\u001b[39;49m\u001b[43mcreate_task_kwargs\u001b[49m\u001b[43m)\u001b[49m\n\u001b[1;32m    471\u001b[0m \u001b[38;5;28;01mreturn\u001b[39;00m AwsQuantumTask(task_arn, aws_session, \u001b[38;5;241m*\u001b[39margs, \u001b[38;5;241m*\u001b[39m\u001b[38;5;241m*\u001b[39mkwargs)\n",
      "File \u001b[0;32m/opt/conda/envs/pytorch/lib/python3.9/site-packages/braket/aws/aws_session.py:223\u001b[0m, in \u001b[0;36mAwsSession.create_quantum_task\u001b[0;34m(self, **boto3_kwargs)\u001b[0m\n\u001b[1;32m    221\u001b[0m \u001b[38;5;28;01mif\u001b[39;00m job_token:\n\u001b[1;32m    222\u001b[0m     boto3_kwargs\u001b[38;5;241m.\u001b[39mupdate({\u001b[38;5;124m\"\u001b[39m\u001b[38;5;124mjobToken\u001b[39m\u001b[38;5;124m\"\u001b[39m: job_token})\n\u001b[0;32m--> 223\u001b[0m response \u001b[38;5;241m=\u001b[39m \u001b[38;5;28;43mself\u001b[39;49m\u001b[38;5;241;43m.\u001b[39;49m\u001b[43mbraket_client\u001b[49m\u001b[38;5;241;43m.\u001b[39;49m\u001b[43mcreate_quantum_task\u001b[49m\u001b[43m(\u001b[49m\u001b[38;5;241;43m*\u001b[39;49m\u001b[38;5;241;43m*\u001b[39;49m\u001b[43mboto3_kwargs\u001b[49m\u001b[43m)\u001b[49m\n\u001b[1;32m    224\u001b[0m broadcast_event(\n\u001b[1;32m    225\u001b[0m     _TaskCreationEvent(\n\u001b[1;32m    226\u001b[0m         arn\u001b[38;5;241m=\u001b[39mresponse[\u001b[38;5;124m\"\u001b[39m\u001b[38;5;124mquantumTaskArn\u001b[39m\u001b[38;5;124m\"\u001b[39m],\n\u001b[0;32m   (...)\u001b[0m\n\u001b[1;32m    230\u001b[0m     )\n\u001b[1;32m    231\u001b[0m )\n\u001b[1;32m    232\u001b[0m \u001b[38;5;28;01mreturn\u001b[39;00m response[\u001b[38;5;124m\"\u001b[39m\u001b[38;5;124mquantumTaskArn\u001b[39m\u001b[38;5;124m\"\u001b[39m]\n",
      "File \u001b[0;32m/opt/conda/envs/pytorch/lib/python3.9/site-packages/botocore/client.py:415\u001b[0m, in \u001b[0;36mClientCreator._create_api_method.<locals>._api_call\u001b[0;34m(self, *args, **kwargs)\u001b[0m\n\u001b[1;32m    412\u001b[0m     \u001b[38;5;28;01mraise\u001b[39;00m \u001b[38;5;167;01mTypeError\u001b[39;00m(\n\u001b[1;32m    413\u001b[0m         \u001b[38;5;124m\"\u001b[39m\u001b[38;5;132;01m%s\u001b[39;00m\u001b[38;5;124m() only accepts keyword arguments.\u001b[39m\u001b[38;5;124m\"\u001b[39m \u001b[38;5;241m%\u001b[39m py_operation_name)\n\u001b[1;32m    414\u001b[0m \u001b[38;5;66;03m# The \"self\" in this scope is referring to the BaseClient.\u001b[39;00m\n\u001b[0;32m--> 415\u001b[0m \u001b[38;5;28;01mreturn\u001b[39;00m \u001b[38;5;28;43mself\u001b[39;49m\u001b[38;5;241;43m.\u001b[39;49m\u001b[43m_make_api_call\u001b[49m\u001b[43m(\u001b[49m\u001b[43moperation_name\u001b[49m\u001b[43m,\u001b[49m\u001b[43m \u001b[49m\u001b[43mkwargs\u001b[49m\u001b[43m)\u001b[49m\n",
      "File \u001b[0;32m/opt/conda/envs/pytorch/lib/python3.9/site-packages/botocore/client.py:745\u001b[0m, in \u001b[0;36mBaseClient._make_api_call\u001b[0;34m(self, operation_name, api_params)\u001b[0m\n\u001b[1;32m    743\u001b[0m     error_code \u001b[38;5;241m=\u001b[39m parsed_response\u001b[38;5;241m.\u001b[39mget(\u001b[38;5;124m\"\u001b[39m\u001b[38;5;124mError\u001b[39m\u001b[38;5;124m\"\u001b[39m, {})\u001b[38;5;241m.\u001b[39mget(\u001b[38;5;124m\"\u001b[39m\u001b[38;5;124mCode\u001b[39m\u001b[38;5;124m\"\u001b[39m)\n\u001b[1;32m    744\u001b[0m     error_class \u001b[38;5;241m=\u001b[39m \u001b[38;5;28mself\u001b[39m\u001b[38;5;241m.\u001b[39mexceptions\u001b[38;5;241m.\u001b[39mfrom_code(error_code)\n\u001b[0;32m--> 745\u001b[0m     \u001b[38;5;28;01mraise\u001b[39;00m error_class(parsed_response, operation_name)\n\u001b[1;32m    746\u001b[0m \u001b[38;5;28;01melse\u001b[39;00m:\n\u001b[1;32m    747\u001b[0m     \u001b[38;5;28;01mreturn\u001b[39;00m parsed_response\n",
      "\u001b[0;31mValidationException\u001b[0m: An error occurred (ValidationException) when calling the CreateQuantumTask operation: [line 8] uses a gate: u1 which is not supported by the device or defined via a defcal"
     ]
    }
   ],
   "source": [
    "from braket.ir.openqasm import Program as OpenQASMProgram\n",
    "\n",
    "sv1 = AwsDevice(\"arn:aws:braket:::device/quantum-simulator/amazon/sv1\")\n",
    "\n",
    "bell_program = OpenQASMProgram(source=partition_func_qasm)\n",
    "\n",
    "bell_task = sv1.run(\n",
    "    bell_program, \n",
    "    shots=100, \n",
    ")"
   ]
  }
 ],
 "metadata": {
  "kernelspec": {
   "display_name": "Python 3 (ipykernel)",
   "language": "python",
   "name": "python3"
  },
  "language_info": {
   "codemirror_mode": {
    "name": "ipython",
    "version": 3
   },
   "file_extension": ".py",
   "mimetype": "text/x-python",
   "name": "python",
   "nbconvert_exporter": "python",
   "pygments_lexer": "ipython3",
   "version": "3.9.13"
  }
 },
 "nbformat": 4,
 "nbformat_minor": 5
}
