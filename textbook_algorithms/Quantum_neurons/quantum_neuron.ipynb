{
 "cells": [
  {
   "cell_type": "markdown",
   "id": "ebab6807",
   "metadata": {},
   "source": [
    "# Quantum Neuron\n",
    "\n",
    "In this work, we build [Quantum Neuron](https://arxiv.org/abs/1711.11240) with pennylane, and run it on different devices such as SV1, IonQ, and Aspen-M-2."
   ]
  },
  {
   "cell_type": "code",
   "execution_count": 1,
   "id": "bbf2681c",
   "metadata": {},
   "outputs": [],
   "source": [
    "import os\n",
    "import numpy as np\n",
    "import matplotlib.pyplot as plt\n",
    "from typing import List\n",
    "\n",
    "import pennylane as qml"
   ]
  },
  {
   "cell_type": "code",
   "execution_count": 2,
   "id": "1a854676",
   "metadata": {},
   "outputs": [],
   "source": [
    "# Note: The first input-character on the left means the biggest digit.\n",
    "# For example, \"1011\" means 8+2+1=11 in decimal. In short, we use \"ordinary\" description here.\n",
    "inputs = \"1011\" # variable\n",
    "\n",
    "WEIGHTS = [0.8, 0.4, 0.2, 0.1]  # constant\n",
    "BIAS = 0.05  # constant\n",
    "\n",
    "theta = np.inner(np.array(list(inputs), dtype=int), np.array(WEIGHTS)) + BIAS   # linear comination with numpy\n",
    "theta = theta.item()   # Convert numpy array to native python float-type\n",
    "\n",
    "ANCILLA = len(WEIGHTS) # ID of an ancilla qubit\n",
    "S3 = (\"amazon-braket-61d287f177a8\", \"pennylane\")"
   ]
  },
  {
   "cell_type": "markdown",
   "id": "36459f9a",
   "metadata": {},
   "source": [
    "## Building Linear Combination Circuit"
   ]
  },
  {
   "cell_type": "markdown",
   "id": "c5396f7b",
   "metadata": {},
   "source": [
    "QN is composed two parts: linear combination and activation function. Specifically, activation function part makes use of linear combination part. In this section, we focus on the former.\n",
    "\n",
    "Linear combination part has a role to encode classical binary data to quantum state.\n",
    "\n",
    "<div align=\"center\"><img src=\"linear_combination_circuit.png\"/></div>\n",
    "\n",
    "$$\n",
    "\\begin{split}\n",
    "    &\\left| x_1 ... x_n  \\right> \\otimes \\left| 0 \\right> \\\\\n",
    "    &\\xrightarrow{1} \\left| x_1 ... x_n \\right> \\otimes Ry(2w_1 x_1) \\left| 0 \\right> \\\\\n",
    "    &\\xrightarrow{2} \\left| x_1 ... x_n \\right> \\otimes Ry(2w_1 x_1 + 2w_n x_n) \\left| 0 \\right> \\\\\n",
    "    &\\xrightarrow{3} \\left| x_1 ... x_n \\right> \\otimes Ry(2w_1 x_1 + 2w_n x_n + 2b) \\left| 0 \\right> \\\\\n",
    "    &= \\left| x_1 ... x_n \\right> \\otimes Ry(2\\theta) \\left| 0 \\right> \\\\\n",
    "\\end{split}\n",
    "$$\n",
    "where the two terms separated by tensor product represent, from left to right, inputs, and ancilla qubit(s), respectively."
   ]
  },
  {
   "cell_type": "code",
   "execution_count": 3,
   "id": "b31b06bc",
   "metadata": {},
   "outputs": [],
   "source": [
    "# LC: Linear Combination\n",
    "N_LC_QUBITS = len(WEIGHTS)+1  # +1: for ancilla\n",
    "LC_DEVICE = qml.device(\n",
    "    \"braket.aws.qubit\", \n",
    "    device_arn=\"arn:aws:braket:::device/quantum-simulator/amazon/sv1\", \n",
    "    s3_destination_folder=S3, \n",
    "    wires=N_LC_QUBITS,\n",
    "    shots=1000)"
   ]
  },
  {
   "cell_type": "code",
   "execution_count": 4,
   "id": "ac3df27b",
   "metadata": {},
   "outputs": [],
   "source": [
    "@qml.qnode(LC_DEVICE)\n",
    "def lc_circuit(inputs:str, weights:List[float], bias:float):\n",
    "    for qubit in range(len(inputs)):\n",
    "        if(inputs[qubit]=='1'):\n",
    "            qml.PauliX(qubit)\n",
    "    \n",
    "    for qubit in range(len(inputs)):\n",
    "        qml.CRY(phi=2*weights[qubit], wires=[qubit, ANCILLA])\n",
    "    \n",
    "    qml.RY(2*bias, wires=ANCILLA)\n",
    "    \n",
    "    return qml.expval(qml.PauliZ(ANCILLA))"
   ]
  },
  {
   "cell_type": "code",
   "execution_count": 5,
   "id": "0f30349d",
   "metadata": {},
   "outputs": [
    {
     "data": {
      "image/png": "[encoded data removed]",
      "text/plain": [
       "<Figure size 900x600 with 1 Axes>"
      ]
     },
     "metadata": {},
     "output_type": "display_data"
    }
   ],
   "source": [
    "qml.drawer.use_style(\"black_white\")\n",
    "fig, ax = qml.draw_mpl(lc_circuit, decimals=2)(inputs, WEIGHTS, BIAS)\n",
    "plt.show()\n",
    "\n",
    "# print(qml.draw(lc_circuit)(INPUTS, WEIGHTS, BIAS))"
   ]
  },
  {
   "cell_type": "markdown",
   "id": "194a7faa",
   "metadata": {},
   "source": [
    "## Build Activation Function Circuit\n",
    "\n",
    "The other part of Quantum Neuron is activation function. Activation function part has linear combination part as subset.\n",
    "\n",
    "<div align=\"center\"><img src=\"activation_function_circuit.png\"/></div>\n",
    "\n",
    "\\begin{align}\n",
    "    &\\left| x \\right> \\otimes \\left| 0 \\right> \\otimes \\left| \\psi \\right> \\\\\n",
    "    &\\xrightarrow{1} \\left| x \\right> \\otimes Ry(2\\theta) \\left| 0 \\right> \\otimes \\left| \\psi \\right> \\\\\n",
    "    &\\xrightarrow{2} \\left| x \\right> \\otimes \\left( \\cos \\theta \\left| 0 \\right> \\otimes \\left| \\psi \\right> + \\sin \\theta \\left| 1 \\right> \\otimes Y\\left| \\psi \\right> \\right) \\\\\n",
    "    &\\xrightarrow{3} \\left| x \\right> \\otimes \\left( \\cos \\theta \\cdot e^{\\frac{\\pi}{4} i} \\left| 0 \\right> \\otimes \\left| \\psi \\right> + \\sin \\theta \\cdot e^{-\\frac{\\pi}{4} i} \\left| 1 \\right> \\otimes Y\\left| \\psi \\right> \\right)\\\\\n",
    "    &\\xrightarrow{4} \\cos \\theta \\cdot e^{\\frac{\\pi}{4} i} \\left| x \\right> \\otimes \\left( \\cos \\theta \\left| 0 \\right> - \\sin \\theta \\left| 1 \\right> \\right) \\otimes \\left| \\psi \\right> \\\\\n",
    "    &+ \\sin \\theta \\cdot e^{-\\frac{\\pi}{4} i} \\left| x \\right> \\otimes \\left( \\cos \\theta \\left| 1 \\right> + \\sin \\theta \\left| 0 \\right>) \\right) \\otimes Y\\left| \\psi \\right> \\\\\n",
    "    &= \\cos^2 \\theta \\cdot e^{\\frac{\\pi}{4} i} \\left| x \\right> \\otimes \\left| 0 \\right> \\otimes \\left| \\psi \\right> -\\cos \\theta \\sin \\theta \\cdot e^{\\frac{\\pi}{4} i} \\left| x \\right> \\otimes \\left| 1 \\right> \\otimes \\left| \\psi \\right> \\\\\n",
    "    &+ \\cos \\theta \\sin \\theta \\cdot e^{-\\frac{\\pi}{4} i} \\left| x \\right> \\otimes \\left| 1 \\right> \\otimes Y \\left| \\psi \\right> + \\sin^2 \\theta \\cdot e^{-\\frac{\\pi}{4} i} \\left| x \\right> \\otimes \\left| 0 \\right> \\otimes Y \\left| \\psi \\right> \\\\\n",
    "    &\\stackrel{\\mathrm{def}}{=} \\left| \\Phi \\right>\n",
    "\\end{align}\n",
    "where the three terms separated by tensor product represent, from left to right, inputs, ancilla, and output qubit(s), respectively.\n",
    "\n",
    "Next, in $\\left| \\Phi \\right>$, we measure only ancilla qubit. Let $p_0$ be the probability of getting 0 of ancilla qubit, and $P_0$ be projection operator of that measuring,\n",
    "\n",
    "\\begin{align}\n",
    "    P_0 &= I \\otimes \\left| 0 \\right> \\left< 0 \\right| \\otimes I \\\\\n",
    "    p_0 &= \\left< \\Phi \\right| P_0 \\left| \\Phi \\right> \\\\\n",
    "    &= \\cos^4 \\theta + \\sin^4 \\theta.\n",
    "\\end{align}\n",
    "\n",
    "Therefore, let $\\left| \\Phi \\right>_0$ be the $\\left| \\Phi \\right>$ state after ancilla measured as 0,\n",
    "\n",
    "\\begin{align}\n",
    "    \\left| \\Phi \\right>_0 &= \\frac{1}{\\sqrt{p_0}} \\left( \\cos^2 \\theta\\cdot e^{\\frac{\\pi}{4} i} \\left| x \\right> \\otimes \\left| \\psi \\right> + \\sin^2 \\theta \\cdot e^{-\\frac{\\pi}{4} i} \\left| x \\right> \\otimes Y \\left| \\psi \\right> \\right) \\\\\n",
    "    &= \\frac{e^{\\frac{\\pi}{4} i}}{\\sqrt{p_0}} \\left| x \\right> \\otimes \\left( I \\cos^2 \\theta - iY \\sin^2 \\theta \\right) \\left| \\psi \\right> \\\\\n",
    "    &= e^{\\frac{\\pi}{4} i} \\left| x \\right> \\otimes Ry \\left( 2q(\\theta) \\right) \\left| \\psi \\right>.\n",
    "\\end{align}\n",
    "\n",
    "Similarly, let $p_1$ be the probability of getting 1 of ancilla qubit, and $\\left| \\Phi \\right>_1$ be the $\\left| \\Phi \\right>$ state after ancilla measured as 1,\n",
    "\n",
    "\\begin{align}\n",
    "    p_1 &= 1-p_0 \\\\\n",
    "    \\left| \\Phi \\right>_1 &= \\frac{1}{\\sqrt{p_0}} \\left( -\\cos \\theta \\sin \\theta \\cdot e^{\\frac{\\pi}{4} i} \\left| x \\right> \\otimes \\left| \\psi \\right> + \\cos \\theta \\sin \\theta \\cdot e^{-\\frac{\\pi}{4} i} \\left| x \\right> \\otimes Y \\left| \\psi \\right> \\right) \\\\\n",
    "    &= \\frac{\\cos \\theta \\sin \\theta}{\\sqrt{p_1}} \\cdot \\left( -e^{\\frac{\\pi}{4} i} \\right) \\left| x \\right> \\otimes \\left( I + iY \\right) \\left| \\psi \\right> \\\\\n",
    "    &= -e^{\\frac{\\pi}{4} i} \\left| x \\right> \\otimes Ry \\left( -\\frac{\\pi}{2} \\right) \\left| \\psi \\right>.\n",
    "\\end{align}\n",
    "\n",
    "Consequently, we can get $Ry \\left( 2q(\\theta) \\right) \\left| \\psi \\right>$ when ancilla is measured as 0. If ancilla is measured as 1, we can correct the output qubit to $\\left| 0 \\right>$ by applying $Ry \\left( \\frac{\\pi}{2} \\right)$.\n",
    "\n",
    "(In this work, we don't correct the output qubit in such \"1\" cases, and only adopt the \"0\" cases.)"
   ]
  },
  {
   "cell_type": "code",
   "execution_count": 6,
   "id": "b83c1fc1",
   "metadata": {},
   "outputs": [],
   "source": [
    "N_QUBITS = len(WEIGHTS)+2  # +2: ancilla and output\n",
    "OUTPUT = len(WEIGHTS) + 1  # ID of an output qubit\n",
    "\n",
    "DEVICE = qml.device(\n",
    "    \"braket.aws.qubit\", \n",
    "    device_arn=\"arn:aws:braket:::device/quantum-simulator/amazon/sv1\", \n",
    "    s3_destination_folder=S3, \n",
    "    wires=N_QUBITS, \n",
    "    shots=1000)"
   ]
  },
  {
   "cell_type": "code",
   "execution_count": 7,
   "id": "f5d7de21",
   "metadata": {},
   "outputs": [],
   "source": [
    "@qml.qnode(DEVICE)\n",
    "def af_circuit(inputs:str, weights:List[float], bias:float):  # af: activation function\n",
    "    for qubit in range(len(inputs)):\n",
    "        if(inputs[qubit]=='1'):\n",
    "            qml.PauliX(qubit)\n",
    "    \n",
    "    for qubit in range(len(inputs)):\n",
    "        qml.CRY(phi=2*weights[qubit], wires=[qubit, ANCILLA])\n",
    "        \n",
    "    qml.RY(2*bias, wires=ANCILLA)\n",
    "    \n",
    "    qml.CY(wires=[ANCILLA, OUTPUT])\n",
    "    qml.RZ(phi=-np.pi/2, wires=ANCILLA)\n",
    "    \n",
    "    for qubit in range(len(inputs)):\n",
    "        qml.CRY(phi=-2*weights[qubit], wires=[qubit, ANCILLA])  # note '-'\n",
    "        \n",
    "    qml.RY(-2*bias, wires=ANCILLA)  # note '-'\n",
    "    \n",
    "    return [qml.sample(qml.PauliZ(i)) for i in range(N_QUBITS)]"
   ]
  },
  {
   "cell_type": "code",
   "execution_count": 8,
   "id": "e6d9a556",
   "metadata": {},
   "outputs": [
    {
     "data": {
      "image/png": "[encoded data removed]",
      "text/plain": [
       "<Figure size 1600x700 with 1 Axes>"
      ]
     },
     "metadata": {},
     "output_type": "display_data"
    }
   ],
   "source": [
    "qml.drawer.use_style(\"black_white\")\n",
    "fig, ax = qml.draw_mpl(af_circuit, decimals=2)(inputs, WEIGHTS, BIAS)\n",
    "plt.show()"
   ]
  },
  {
   "cell_type": "code",
   "execution_count": 9,
   "id": "beb66ee6",
   "metadata": {},
   "outputs": [],
   "source": [
    "sample = af_circuit(inputs, WEIGHTS, BIAS)\n",
    "sample = sample.T\n",
    "sample = (1 - sample.numpy()) / 2"
   ]
  },
  {
   "cell_type": "code",
   "execution_count": 10,
   "id": "f1663a0a",
   "metadata": {},
   "outputs": [
    {
     "name": "stdout",
     "output_type": "stream",
     "text": [
      "First len(INPUTS) qubits should be correspond to INPUTS(=\"1011\"):\n",
      "[[1. 0. 1. 1. 0. 1.]\n",
      " [1. 0. 1. 1. 1. 0.]\n",
      " [1. 0. 1. 1. 0. 1.]\n",
      " ...\n",
      " [1. 0. 1. 1. 1. 0.]\n",
      " [1. 0. 1. 1. 0. 1.]\n",
      " [1. 0. 1. 1. 0. 1.]]\n"
     ]
    }
   ],
   "source": [
    "print(\"First len(INPUTS) qubits should be correspond to INPUTS(=\\\"1011\\\"):\")\n",
    "print(sample)"
   ]
  },
  {
   "cell_type": "markdown",
   "id": "985e3bca",
   "metadata": {},
   "source": [
    "In the sample obtained, we adopt the cases where its ancilla qubit is 0."
   ]
  },
  {
   "cell_type": "code",
   "execution_count": 11,
   "id": "73758d48",
   "metadata": {},
   "outputs": [
    {
     "data": {
      "text/plain": [
       "array([[1., 0., 1., 1., 0., 1.],\n",
       "       [1., 0., 1., 1., 0., 1.],\n",
       "       [1., 0., 1., 1., 0., 1.],\n",
       "       ...,\n",
       "       [1., 0., 1., 1., 0., 1.],\n",
       "       [1., 0., 1., 1., 0., 1.],\n",
       "       [1., 0., 1., 1., 0., 1.]])"
      ]
     },
     "execution_count": 11,
     "metadata": {},
     "output_type": "execute_result"
    }
   ],
   "source": [
    "adopted_sample = sample[sample[:,ANCILLA] == 0]\n",
    "adopted_sample"
   ]
  },
  {
   "cell_type": "markdown",
   "id": "aeb92443",
   "metadata": {},
   "source": [
    "The last qubit of `adopted_sample` represents a measurement result of $Ry(2q(\\theta)) \\left|0\\right>$.\n",
    "\n",
    "Let $p_0$ be the probability of 0 when measuring output qubit.\n",
    "Using $ Ry(2q(\\theta)) \\left|0\\right> = \\cos q(\\theta) \\left|0\\right> + \\sin q(\\theta) \\left|1\\right>$,\n",
    "$$ p_0 = \\cos^2 q(\\theta) \\\\\n",
    "\\therefore q(\\theta) = \\cos^{-1}\\sqrt{p_0}$$"
   ]
  },
  {
   "cell_type": "code",
   "execution_count": 12,
   "id": "8f45ba7a",
   "metadata": {},
   "outputs": [
    {
     "name": "stdout",
     "output_type": "stream",
     "text": [
      "1.3755034342395367\n",
      "1.1500000000000001\n"
     ]
    }
   ],
   "source": [
    "count_0 = len(adopted_sample[adopted_sample[:,OUTPUT] == 0])\n",
    "count_1 = len(adopted_sample[adopted_sample[:,OUTPUT] == 1])\n",
    "\n",
    "p_0 = count_0 / (count_0 + count_1)\n",
    "q_theta = np.arccos(np.sqrt(p_0))\n",
    "print(q_theta)\n",
    "print(theta)"
   ]
  },
  {
   "cell_type": "markdown",
   "id": "68288ec5",
   "metadata": {},
   "source": [
    "## Run Quantum Neuron Circuit on AWS Simulator (SV1)"
   ]
  },
  {
   "cell_type": "code",
   "execution_count": 13,
   "id": "6b072700",
   "metadata": {},
   "outputs": [],
   "source": [
    "DEVICE = qml.device(\n",
    "    \"braket.aws.qubit\", \n",
    "    device_arn=\"arn:aws:braket:::device/quantum-simulator/amazon/sv1\", \n",
    "    s3_destination_folder=S3, \n",
    "    wires=N_QUBITS, \n",
    "    shots=1000)"
   ]
  },
  {
   "cell_type": "code",
   "execution_count": 17,
   "id": "cefa4a7b",
   "metadata": {},
   "outputs": [],
   "source": [
    "def quantum_neuron(inputs:int):\n",
    "    inputs = format(inputs, '04b')\n",
    "    print(inputs)\n",
    "    \n",
    "    theta = np.inner(np.array(list(inputs), dtype=int), np.array(WEIGHTS)) + BIAS   # linear comination with numpy\n",
    "    theta = theta.item()   # Convert numpy array to native python float-type\n",
    "    theta_list.append(theta)\n",
    "\n",
    "    sample = af_circuit(inputs, WEIGHTS, BIAS)\n",
    "    sample = sample.T\n",
    "    sample = (1 - sample.numpy()) / 2\n",
    "\n",
    "    adopted_sample = sample[sample[:,ANCILLA] == 0]\n",
    "\n",
    "    count_0 = len(adopted_sample[adopted_sample[:,OUTPUT] == 0])\n",
    "    print(f'count_0: {count_0}')\n",
    "    count_1 = len(adopted_sample[adopted_sample[:,OUTPUT] == 1])\n",
    "    print(f'count_1: {count_1}')\n",
    "\n",
    "    p_0 = count_0 / (count_0 + count_1)\n",
    "\n",
    "    print(f'p_0: {p_0}')\n",
    "    print()\n",
    "    q_theta = np.arccos(np.sqrt(p_0))\n",
    "    \n",
    "    return q_theta"
   ]
  },
  {
   "cell_type": "code",
   "execution_count": 18,
   "id": "a461a9ed",
   "metadata": {},
   "outputs": [
    {
     "name": "stdout",
     "output_type": "stream",
     "text": [
      "0000\n",
      "count_0: 999\n",
      "count_1: 0\n",
      "p_0: 1.0\n",
      "\n",
      "0001\n",
      "count_0: 962\n",
      "count_1: 0\n",
      "p_0: 1.0\n",
      "\n",
      "0010\n",
      "count_0: 888\n",
      "count_1: 5\n",
      "p_0: 0.9944008958566629\n",
      "\n",
      "0011\n",
      "count_0: 773\n",
      "count_1: 12\n",
      "p_0: 0.9847133757961783\n",
      "\n",
      "0100\n",
      "count_0: 629\n",
      "count_1: 32\n",
      "p_0: 0.9515885022692889\n",
      "\n",
      "0101\n",
      "count_0: 546\n",
      "count_1: 86\n",
      "p_0: 0.8639240506329114\n",
      "\n",
      "0110\n",
      "count_0: 411\n",
      "count_1: 138\n",
      "p_0: 0.7486338797814208\n",
      "\n",
      "0111\n",
      "count_0: 294\n",
      "count_1: 229\n",
      "p_0: 0.5621414913957935\n",
      "\n",
      "1000\n",
      "count_0: 189\n",
      "count_1: 342\n",
      "p_0: 0.3559322033898305\n",
      "\n",
      "1001\n",
      "count_0: 136\n",
      "count_1: 444\n",
      "p_0: 0.23448275862068965\n",
      "\n",
      "1010\n",
      "count_0: 69\n",
      "count_1: 542\n",
      "p_0: 0.11292962356792144\n",
      "\n",
      "1011\n",
      "count_0: 20\n",
      "count_1: 706\n",
      "p_0: 0.027548209366391185\n",
      "\n",
      "1100\n",
      "count_0: 11\n",
      "count_1: 798\n",
      "p_0: 0.013597033374536464\n",
      "\n",
      "1101\n",
      "count_0: 1\n",
      "count_1: 896\n",
      "p_0: 0.0011148272017837235\n",
      "\n",
      "1110\n",
      "count_0: 0\n",
      "count_1: 973\n",
      "p_0: 0.0\n",
      "\n",
      "1111\n",
      "count_0: 0\n",
      "count_1: 999\n",
      "p_0: 0.0\n",
      "\n"
     ]
    }
   ],
   "source": [
    "theta_list = []\n",
    "sv1_q_theta_list = []\n",
    "\n",
    "for inputs in range(2**len(WEIGHTS)):\n",
    "    q_theta = quantum_neuron(inputs)\n",
    "    \n",
    "    sv1_q_theta_list.append(q_theta)\n",
    "\n",
    "np.save('./theta_list.npy', theta_list)    \n",
    "np.save('./sv1_q_theta_list.npy', sv1_q_theta_list)"
   ]
  },
  {
   "cell_type": "markdown",
   "id": "3d4dc566",
   "metadata": {},
   "source": [
    "## Run Quantum Neuron Circuit on Real Quantum Device (IonQ)"
   ]
  },
  {
   "cell_type": "code",
   "execution_count": 4,
   "id": "0886fc40",
   "metadata": {},
   "outputs": [],
   "source": [
    "DEVICE = qml.device(\n",
    "    \"braket.aws.qubit\", \n",
    "    device_arn=\"arn:aws:braket:::device/qpu/ionq/ionQdevice\", \n",
    "    s3_destination_folder=S3, \n",
    "    wires=N_QUBITS, \n",
    "    shots=1000)"
   ]
  },
  {
   "cell_type": "code",
   "execution_count": 6,
   "id": "0dab6ae0",
   "metadata": {},
   "outputs": [
    {
     "name": "stdout",
     "output_type": "stream",
     "text": [
      "0000\n",
      "count_0: 669\n",
      "count_1: 61\n",
      "p_0: 0.9164383561643835\n",
      "\n",
      "0001\n",
      "count_0: 673\n",
      "count_1: 53\n",
      "p_0: 0.9269972451790633\n",
      "\n",
      "0010\n",
      "count_0: 642\n",
      "count_1: 71\n",
      "p_0: 0.9004207573632539\n",
      "\n",
      "0011\n",
      "count_0: 543\n",
      "count_1: 87\n",
      "p_0: 0.861904761904762\n",
      "\n",
      "0100\n",
      "count_0: 516\n",
      "count_1: 65\n",
      "p_0: 0.8881239242685026\n",
      "\n",
      "0101\n",
      "count_0: 400\n",
      "count_1: 155\n",
      "p_0: 0.7207207207207207\n",
      "\n",
      "0110\n",
      "count_0: 261\n",
      "count_1: 173\n",
      "p_0: 0.6013824884792627\n",
      "\n",
      "0111\n",
      "count_0: 312\n",
      "count_1: 199\n",
      "p_0: 0.6105675146771037\n",
      "\n",
      "1000\n",
      "count_0: 260\n",
      "count_1: 260\n",
      "p_0: 0.5\n",
      "\n",
      "1001\n",
      "count_0: 199\n",
      "count_1: 348\n",
      "p_0: 0.36380255941499084\n",
      "\n",
      "1010\n",
      "count_0: 189\n",
      "count_1: 452\n",
      "p_0: 0.2948517940717629\n",
      "\n",
      "1011\n",
      "count_0: 117\n",
      "count_1: 569\n",
      "p_0: 0.17055393586005832\n",
      "\n",
      "1100\n",
      "count_0: 119\n",
      "count_1: 609\n",
      "p_0: 0.16346153846153846\n",
      "\n",
      "1101\n",
      "count_0: 87\n",
      "count_1: 720\n",
      "p_0: 0.10780669144981413\n",
      "\n",
      "1110\n",
      "count_0: 62\n",
      "count_1: 739\n",
      "p_0: 0.07740324594257178\n",
      "\n",
      "1111\n",
      "count_0: 76\n",
      "count_1: 730\n",
      "p_0: 0.09429280397022333\n",
      "\n"
     ]
    }
   ],
   "source": [
    "theta_list = []\n",
    "ionq_q_theta_list = []\n",
    "\n",
    "for inputs in range(2**len(WEIGHTS)):\n",
    "    q_theta = quantum_neuron(inputs)\n",
    "    \n",
    "    ionq_q_theta_list.append(q_theta)\n",
    "\n",
    "np.save('./theta_list.npy', theta_list)    \n",
    "np.save('./ionq_q_theta_list.npy', ionq_q_theta_list)"
   ]
  },
  {
   "cell_type": "markdown",
   "id": "f783baf1",
   "metadata": {},
   "source": [
    "## Run Quantum Neuron Circuit on Real Quantum Device (Aspen-M-2)"
   ]
  },
  {
   "cell_type": "code",
   "execution_count": 4,
   "id": "086f543f",
   "metadata": {},
   "outputs": [],
   "source": [
    "DEVICE = qml.device(\"braket.aws.qubit\", \n",
    "                    device_arn=\"arn:aws:braket:us-west-1::device/qpu/rigetti/Aspen-M-2\", \n",
    "                    s3_destination_folder=S3, \n",
    "                    wires=N_QUBITS, \n",
    "                    shots=1000)"
   ]
  },
  {
   "cell_type": "code",
   "execution_count": 6,
   "id": "08500aa5",
   "metadata": {},
   "outputs": [
    {
     "name": "stdout",
     "output_type": "stream",
     "text": [
      "0000\n",
      "count_0: 138\n",
      "count_1: 146\n",
      "p_0: 0.4859154929577465\n",
      "\n",
      "0001\n",
      "count_0: 165\n",
      "count_1: 173\n",
      "p_0: 0.4881656804733728\n",
      "\n",
      "0010\n",
      "count_0: 119\n",
      "count_1: 118\n",
      "p_0: 0.5021097046413502\n",
      "\n",
      "0011\n",
      "count_0: 205\n",
      "count_1: 111\n",
      "p_0: 0.6487341772151899\n",
      "\n",
      "0100\n",
      "count_0: 116\n",
      "count_1: 159\n",
      "p_0: 0.4218181818181818\n",
      "\n",
      "0101\n",
      "count_0: 138\n",
      "count_1: 173\n",
      "p_0: 0.4437299035369775\n",
      "\n",
      "0110\n",
      "count_0: 150\n",
      "count_1: 111\n",
      "p_0: 0.5747126436781609\n",
      "\n",
      "0111\n",
      "count_0: 146\n",
      "count_1: 125\n",
      "p_0: 0.5387453874538746\n",
      "\n",
      "1000\n",
      "count_0: 137\n",
      "count_1: 121\n",
      "p_0: 0.5310077519379846\n",
      "\n",
      "1001\n",
      "count_0: 108\n",
      "count_1: 183\n",
      "p_0: 0.3711340206185567\n",
      "\n",
      "1010\n",
      "count_0: 214\n",
      "count_1: 126\n",
      "p_0: 0.6294117647058823\n",
      "\n",
      "1011\n",
      "count_0: 175\n",
      "count_1: 111\n",
      "p_0: 0.6118881118881119\n",
      "\n",
      "1100\n",
      "count_0: 124\n",
      "count_1: 157\n",
      "p_0: 0.4412811387900356\n",
      "\n",
      "1101\n",
      "count_0: 143\n",
      "count_1: 164\n",
      "p_0: 0.46579804560260585\n",
      "\n",
      "1110\n",
      "count_0: 143\n",
      "count_1: 128\n",
      "p_0: 0.5276752767527675\n",
      "\n",
      "1111\n",
      "count_0: 150\n",
      "count_1: 153\n",
      "p_0: 0.49504950495049505\n",
      "\n"
     ]
    }
   ],
   "source": [
    "theta_list = []\n",
    "aspen_q_theta_list = []\n",
    "\n",
    "for inputs in range(2**len(WEIGHTS)):\n",
    "    q_theta = quantum_neuron(inputs)\n",
    "    \n",
    "    aspen_q_theta_list.append(q_theta)\n",
    "\n",
    "np.save('./theta_list.npy', theta_list)    \n",
    "np.save('./sv1_q_theta_list.npy', aspen_q_theta_list)"
   ]
  },
  {
   "cell_type": "code",
   "execution_count": 19,
   "id": "af38b9fc",
   "metadata": {},
   "outputs": [
    {
     "data": {
      "image/png": "[encoded data removed]",
      "text/plain": [
       "<Figure size 640x480 with 1 Axes>"
      ]
     },
     "metadata": {},
     "output_type": "display_data"
    }
   ],
   "source": [
    "x_array = np.linspace(0, np.pi/2, 20)\n",
    "nl_function = np.arctan(np.tan(x_array)**2)\n",
    "theta_list = np.load('./theta_list.npy')\n",
    "sv1_q_theta_list = np.load('./sv1_q_theta_list.npy')\n",
    "ionq_q_theta_list = np.load('./ionq_q_theta_list.npy')\n",
    "aspen_q_theta_list = np.load('./aspen_q_theta_list.npy')\n",
    "\n",
    "plt.plot(x_array, nl_function, label=r\"theory\")\n",
    "plt.plot(theta_list, sv1_q_theta_list, label=r\"SV1\")\n",
    "plt.plot(theta_list, ionq_q_theta_list, label=r\"IonQ\")\n",
    "plt.plot(theta_list, aspen_q_theta_list, label=r\"Aspen-M-2\")\n",
    "plt.xlabel(r\"$\\theta$\")\n",
    "plt.ylabel(r\"$q(\\theta)$\")\n",
    "plt.legend(bbox_to_anchor=(0, 1), loc='upper left', borderaxespad=1)\n",
    "plt.show()"
   ]
  },
  {
   "cell_type": "markdown",
   "id": "c8d9caa1",
   "metadata": {},
   "source": [
    "## Summary\n",
    "\n",
    "We can run Quantum Neuron circuit on different quantum devices through pennylane."
   ]
  },
  {
   "cell_type": "code",
   "execution_count": null,
   "id": "5905e011",
   "metadata": {},
   "outputs": [],
   "source": []
  }
 ],
 "metadata": {
  "kernelspec": {
   "display_name": "conda_braket",
   "language": "python",
   "name": "conda_braket"
  },
  "language_info": {
   "codemirror_mode": {
    "name": "ipython",
    "version": 3
   },
   "file_extension": ".py",
   "mimetype": "text/x-python",
   "name": "python",
   "nbconvert_exporter": "python",
   "pygments_lexer": "ipython3",
   "version": "3.7.13"
  }
 },
 "nbformat": 4,
 "nbformat_minor": 5
}
